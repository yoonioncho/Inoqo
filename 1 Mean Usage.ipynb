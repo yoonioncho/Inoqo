{
 "cells": [
  {
   "cell_type": "code",
   "execution_count": 24,
   "metadata": {},
   "outputs": [],
   "source": [
    "import numpy as np\n",
    "import pandas as pd\n",
    "\n",
    "from sklearn.metrics import mean_squared_error"
   ]
  },
  {
   "cell_type": "markdown",
   "metadata": {},
   "source": [
    "<h2>Reading the Data</h2>"
   ]
  },
  {
   "cell_type": "code",
   "execution_count": 52,
   "metadata": {},
   "outputs": [],
   "source": [
    "raw=pd.read_csv('product_identifiers.csv')\n",
    "data=raw.sort_values(by=['energy_per_100g'])"
   ]
  },
  {
   "cell_type": "code",
   "execution_count": 12,
   "metadata": {},
   "outputs": [],
   "source": [
    "stat=pd.read_csv('[Overview] With Outliers Final Generic Product Analysis.csv')\n",
    "stat=stat.drop(['Unnamed: 0'],axis=1)"
   ]
  },
  {
   "cell_type": "markdown",
   "metadata": {},
   "source": [
    "<h2>Assigning Values - Mean and Median</h2>"
   ]
  },
  {
   "cell_type": "code",
   "execution_count": 17,
   "metadata": {},
   "outputs": [],
   "source": [
    "stat_temp=stat[['Final Generic Product','W/O Outlier Mean','W/O Outlier Median']]"
   ]
  },
  {
   "cell_type": "code",
   "execution_count": 18,
   "metadata": {},
   "outputs": [],
   "source": [
    "data_temp=data[['article_number','Product name','energy_per_100g','Final Generic Product']]"
   ]
  },
  {
   "cell_type": "code",
   "execution_count": 58,
   "metadata": {},
   "outputs": [],
   "source": [
    "temp_merge=data_temp.merge(stat_temp,how='outer',on=['Final Generic Product'])"
   ]
  },
  {
   "cell_type": "markdown",
   "metadata": {},
   "source": [
    "<h2>Error Finding - RMSE </h2>"
   ]
  },
  {
   "cell_type": "code",
   "execution_count": 46,
   "metadata": {},
   "outputs": [],
   "source": [
    "temp_check=temp_merge.dropna(subset=['energy_per_100g','W/O Outlier Mean'])\n",
    "# temp_check=temp_check.drop_duplicates(subset=['energy_per_100g','W/O Outlier Mean']) "
   ]
  },
  {
   "cell_type": "code",
   "execution_count": 47,
   "metadata": {},
   "outputs": [
    {
     "data": {
      "text/plain": [
       "77.38826171682281"
      ]
     },
     "execution_count": 47,
     "metadata": {},
     "output_type": "execute_result"
    }
   ],
   "source": [
    "mean=temp_check['W/O Outlier Mean']\n",
    "energy=temp_check['energy_per_100g']\n",
    "mean_mse = mean_squared_error(mean, energy)\n",
    "mean_rmse = np.sqrt(mean_mse)\n",
    "mean_rmse"
   ]
  },
  {
   "cell_type": "code",
   "execution_count": 48,
   "metadata": {},
   "outputs": [
    {
     "data": {
      "text/plain": [
       "78.99225164581496"
      ]
     },
     "execution_count": 48,
     "metadata": {},
     "output_type": "execute_result"
    }
   ],
   "source": [
    "median=temp_check['W/O Outlier Median']\n",
    "energy=temp_check['energy_per_100g']\n",
    "median_mse = mean_squared_error(median, energy)\n",
    "median_rmse = np.sqrt(median_mse)\n",
    "median_rmse"
   ]
  },
  {
   "cell_type": "markdown",
   "metadata": {},
   "source": [
    "<h2>Exporting Results</h2>"
   ]
  },
  {
   "cell_type": "code",
   "execution_count": 64,
   "metadata": {},
   "outputs": [],
   "source": [
    "def na_kcal(df,col):\n",
    "    if df[col]>0:\n",
    "        if df['energy_per_100g']>0:\n",
    "            pred=df[col]\n",
    "            exist=df['energy_per_100g']\n",
    "            return abs((pred-exist)/exist)\n",
    "        elif df['energy_per_100g']==0:\n",
    "            return 1\n",
    "    else:\n",
    "        return np.nan"
   ]
  },
  {
   "cell_type": "code",
   "execution_count": 65,
   "metadata": {},
   "outputs": [],
   "source": [
    "res=temp_merge\n",
    "res['W/O Outlier Mean Deviation']=res.apply(lambda res:na_kcal(res,'W/O Outlier Mean'),axis=1)\n",
    "res['W/O Outlier Median Deviation']=res.apply(lambda res:na_kcal(res,'W/O Outlier Median'),axis=1)"
   ]
  },
  {
   "cell_type": "code",
   "execution_count": 67,
   "metadata": {},
   "outputs": [],
   "source": [
    "res.to_csv('[RES] Mean Median ML with Deviations')"
   ]
  }
 ],
 "metadata": {
  "kernelspec": {
   "display_name": "Python 3",
   "language": "python",
   "name": "python3"
  },
  "language_info": {
   "codemirror_mode": {
    "name": "ipython",
    "version": 3
   },
   "file_extension": ".py",
   "mimetype": "text/x-python",
   "name": "python",
   "nbconvert_exporter": "python",
   "pygments_lexer": "ipython3",
   "version": "3.8.3"
  }
 },
 "nbformat": 4,
 "nbformat_minor": 4
}
