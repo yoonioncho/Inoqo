{
 "cells": [
  {
   "cell_type": "code",
   "execution_count": 1,
   "metadata": {},
   "outputs": [],
   "source": [
    "import numpy as np\n",
    "import pandas as pd\n",
    "\n",
    "from scipy import stats\n",
    "\n",
    "from pandas.plotting import scatter_matrix\n",
    "import matplotlib.pyplot as plt\n",
    "import matplotlib.pyplot as figure"
   ]
  },
  {
   "cell_type": "markdown",
   "metadata": {},
   "source": [
    "<h2>Reading the Data</h2>"
   ]
  },
  {
   "cell_type": "code",
   "execution_count": 2,
   "metadata": {},
   "outputs": [],
   "source": [
    "raw=pd.read_csv('product_identifiers.csv')\n",
    "data=raw.sort_values(by=['energy_per_100g'])"
   ]
  },
  {
   "cell_type": "markdown",
   "metadata": {},
   "source": [
    "<h2>Assign Index for Future Reference</h2>"
   ]
  },
  {
   "cell_type": "code",
   "execution_count": 3,
   "metadata": {},
   "outputs": [],
   "source": [
    "data=data.dropna(subset=['Final Generic Product'])\n",
    "data['IDX Final Generic Product'] =data['Final Generic Product'].factorize()[0]"
   ]
  },
  {
   "cell_type": "code",
   "execution_count": 4,
   "metadata": {
    "scrolled": true
   },
   "outputs": [
    {
     "data": {
      "text/html": [
       "<div>\n",
       "<style scoped>\n",
       "    .dataframe tbody tr th:only-of-type {\n",
       "        vertical-align: middle;\n",
       "    }\n",
       "\n",
       "    .dataframe tbody tr th {\n",
       "        vertical-align: top;\n",
       "    }\n",
       "\n",
       "    .dataframe thead th {\n",
       "        text-align: right;\n",
       "    }\n",
       "</style>\n",
       "<table border=\"1\" class=\"dataframe\">\n",
       "  <thead>\n",
       "    <tr style=\"text-align: right;\">\n",
       "      <th></th>\n",
       "      <th>Retailer</th>\n",
       "      <th>Identifier</th>\n",
       "      <th>Identifier without -</th>\n",
       "      <th>URL</th>\n",
       "      <th>article_number</th>\n",
       "      <th>Product name</th>\n",
       "      <th>MATCH(1)</th>\n",
       "      <th>MATCH(2)</th>\n",
       "      <th>MATCH(3)</th>\n",
       "      <th>Matched UUID</th>\n",
       "      <th>...</th>\n",
       "      <th>Ingredients</th>\n",
       "      <th>Food Processing</th>\n",
       "      <th>Stocking/Storage</th>\n",
       "      <th>Inside Packaging</th>\n",
       "      <th>Food Preperation</th>\n",
       "      <th>Generic_product_name</th>\n",
       "      <th>German translation (Generic product name only)</th>\n",
       "      <th>Final Generic Product</th>\n",
       "      <th>Final Generic Product (only classification)</th>\n",
       "      <th>IDX Final Generic Product</th>\n",
       "    </tr>\n",
       "  </thead>\n",
       "  <tbody>\n",
       "    <tr>\n",
       "      <th>23230</th>\n",
       "      <td>Interspar</td>\n",
       "      <td>NaN</td>\n",
       "      <td>NaN</td>\n",
       "      <td>https://www.interspar.at/shop/lebensmittel/aia...</td>\n",
       "      <td>2020001920112</td>\n",
       "      <td>Aia Hendl Brustschnitzel Roma</td>\n",
       "      <td>NaN</td>\n",
       "      <td>25143aa881cf4dccbc4643d336b940d4</td>\n",
       "      <td>25143aa881cf4dccbc4643d336b940d4</td>\n",
       "      <td>25143aa881cf4dccbc4643d336b940d4</td>\n",
       "      <td>...</td>\n",
       "      <td>NaN</td>\n",
       "      <td>prepared</td>\n",
       "      <td>refrigerated</td>\n",
       "      <td>NaN</td>\n",
       "      <td>NaN</td>\n",
       "      <td>NaN</td>\n",
       "      <td>NaN</td>\n",
       "      <td>Chicken - prepared - refrigerated</td>\n",
       "      <td>Chicken - prepared - refrigerated</td>\n",
       "      <td>0</td>\n",
       "    </tr>\n",
       "    <tr>\n",
       "      <th>5639</th>\n",
       "      <td>Interspar</td>\n",
       "      <td>6c5fbc1b-8502-4b3b-9751-5eb9c682a183</td>\n",
       "      <td>6c5fbc1b85024b3b97515eb9c682a183</td>\n",
       "      <td>NaN</td>\n",
       "      <td>NaN</td>\n",
       "      <td>Aia Chicken Salad</td>\n",
       "      <td>6c5fbc1b85024b3b97515eb9c682a183</td>\n",
       "      <td>NaN</td>\n",
       "      <td>6c5fbc1b85024b3b97515eb9c682a183</td>\n",
       "      <td>6c5fbc1b85024b3b97515eb9c682a183</td>\n",
       "      <td>...</td>\n",
       "      <td>chicken</td>\n",
       "      <td>NaN</td>\n",
       "      <td>refrigerated</td>\n",
       "      <td>NaN</td>\n",
       "      <td>NaN</td>\n",
       "      <td>NaN</td>\n",
       "      <td>NaN</td>\n",
       "      <td>Ready made-Salads - Meat others - chicken - re...</td>\n",
       "      <td>Ready made-Salads - Meat others - chicken - re...</td>\n",
       "      <td>1</td>\n",
       "    </tr>\n",
       "    <tr>\n",
       "      <th>10725</th>\n",
       "      <td>Interspar</td>\n",
       "      <td>NaN</td>\n",
       "      <td>NaN</td>\n",
       "      <td>https://www.interspar.at/shop/lebensmittel/kek...</td>\n",
       "      <td>5051083</td>\n",
       "      <td>Kekserei Cantuccini</td>\n",
       "      <td>NaN</td>\n",
       "      <td>e0fa2cd5d85b4c4aa9ecb7fba761e625</td>\n",
       "      <td>e0fa2cd5d85b4c4aa9ecb7fba761e625</td>\n",
       "      <td>e0fa2cd5d85b4c4aa9ecb7fba761e625</td>\n",
       "      <td>...</td>\n",
       "      <td>nuts</td>\n",
       "      <td>NaN</td>\n",
       "      <td>NaN</td>\n",
       "      <td>NaN</td>\n",
       "      <td>NaN</td>\n",
       "      <td>NaN</td>\n",
       "      <td>NaN</td>\n",
       "      <td>Cookies with nuts - nuts</td>\n",
       "      <td>Cookies with nuts - nuts</td>\n",
       "      <td>2</td>\n",
       "    </tr>\n",
       "    <tr>\n",
       "      <th>22758</th>\n",
       "      <td>Interspar</td>\n",
       "      <td>NaN</td>\n",
       "      <td>NaN</td>\n",
       "      <td>https://www.interspar.at/shop/lebensmittel/bul...</td>\n",
       "      <td>2020003135958</td>\n",
       "      <td>Bullrich Lutsch-Tabletten Säure–Basen–Balance ...</td>\n",
       "      <td>NaN</td>\n",
       "      <td>bf5b635622ca41449ec602f8657de905</td>\n",
       "      <td>NaN</td>\n",
       "      <td>bf5b635622ca41449ec602f8657de905</td>\n",
       "      <td>...</td>\n",
       "      <td>NaN</td>\n",
       "      <td>NaN</td>\n",
       "      <td>NaN</td>\n",
       "      <td>NaN</td>\n",
       "      <td>NaN</td>\n",
       "      <td>NaN</td>\n",
       "      <td>NaN</td>\n",
       "      <td>Random Category</td>\n",
       "      <td>Random Category</td>\n",
       "      <td>3</td>\n",
       "    </tr>\n",
       "    <tr>\n",
       "      <th>23244</th>\n",
       "      <td>Interspar</td>\n",
       "      <td>NaN</td>\n",
       "      <td>NaN</td>\n",
       "      <td>https://www.interspar.at/shop/lebensmittel/aia...</td>\n",
       "      <td>2020001920150</td>\n",
       "      <td>Aia Putenschnitzel hauchdünn</td>\n",
       "      <td>NaN</td>\n",
       "      <td>c9ff85f922cb48f4b420898d75f87b34</td>\n",
       "      <td>c9ff85f922cb48f4b420898d75f87b34</td>\n",
       "      <td>c9ff85f922cb48f4b420898d75f87b34</td>\n",
       "      <td>...</td>\n",
       "      <td>NaN</td>\n",
       "      <td>raw</td>\n",
       "      <td>refrigerated</td>\n",
       "      <td>NaN</td>\n",
       "      <td>NaN</td>\n",
       "      <td>NaN</td>\n",
       "      <td>NaN</td>\n",
       "      <td>Turkey - raw - refrigerated</td>\n",
       "      <td>Turkey - raw - refrigerated</td>\n",
       "      <td>4</td>\n",
       "    </tr>\n",
       "    <tr>\n",
       "      <th>...</th>\n",
       "      <td>...</td>\n",
       "      <td>...</td>\n",
       "      <td>...</td>\n",
       "      <td>...</td>\n",
       "      <td>...</td>\n",
       "      <td>...</td>\n",
       "      <td>...</td>\n",
       "      <td>...</td>\n",
       "      <td>...</td>\n",
       "      <td>...</td>\n",
       "      <td>...</td>\n",
       "      <td>...</td>\n",
       "      <td>...</td>\n",
       "      <td>...</td>\n",
       "      <td>...</td>\n",
       "      <td>...</td>\n",
       "      <td>...</td>\n",
       "      <td>...</td>\n",
       "      <td>...</td>\n",
       "      <td>...</td>\n",
       "      <td>...</td>\n",
       "    </tr>\n",
       "    <tr>\n",
       "      <th>29429</th>\n",
       "      <td>Hofer</td>\n",
       "      <td>003-2764</td>\n",
       "      <td>0032764</td>\n",
       "      <td>https://drive.google.com/file/d/10pGcMXf7-1u5c...</td>\n",
       "      <td>view</td>\n",
       "      <td>Kaubonbons mit Tattoo Cola</td>\n",
       "      <td>NaN</td>\n",
       "      <td>NaN</td>\n",
       "      <td>NaN</td>\n",
       "      <td>NaN</td>\n",
       "      <td>...</td>\n",
       "      <td>others</td>\n",
       "      <td>NaN</td>\n",
       "      <td>NaN</td>\n",
       "      <td>NaN</td>\n",
       "      <td>NaN</td>\n",
       "      <td>NaN</td>\n",
       "      <td>NaN</td>\n",
       "      <td>Sugar Candy - Others - others</td>\n",
       "      <td>Sugar Candy - Others - others</td>\n",
       "      <td>1429</td>\n",
       "    </tr>\n",
       "    <tr>\n",
       "      <th>29430</th>\n",
       "      <td>Hofer</td>\n",
       "      <td>003-2765</td>\n",
       "      <td>0032765</td>\n",
       "      <td>https://drive.google.com/file/d/10pGcMXf7-1u5c...</td>\n",
       "      <td>view</td>\n",
       "      <td>Kaubonbons mit Tattoo Erdbeere</td>\n",
       "      <td>NaN</td>\n",
       "      <td>NaN</td>\n",
       "      <td>NaN</td>\n",
       "      <td>NaN</td>\n",
       "      <td>...</td>\n",
       "      <td>fruits</td>\n",
       "      <td>NaN</td>\n",
       "      <td>NaN</td>\n",
       "      <td>NaN</td>\n",
       "      <td>NaN</td>\n",
       "      <td>NaN</td>\n",
       "      <td>NaN</td>\n",
       "      <td>Sugar Candy - Others - fruits</td>\n",
       "      <td>Sugar Candy - Others - fruits</td>\n",
       "      <td>1460</td>\n",
       "    </tr>\n",
       "    <tr>\n",
       "      <th>29431</th>\n",
       "      <td>Hofer</td>\n",
       "      <td>003-2766</td>\n",
       "      <td>0032766</td>\n",
       "      <td>https://drive.google.com/file/d/10pGcMXf7-1u5c...</td>\n",
       "      <td>view</td>\n",
       "      <td>Maoween</td>\n",
       "      <td>NaN</td>\n",
       "      <td>NaN</td>\n",
       "      <td>NaN</td>\n",
       "      <td>NaN</td>\n",
       "      <td>...</td>\n",
       "      <td>fruits</td>\n",
       "      <td>NaN</td>\n",
       "      <td>NaN</td>\n",
       "      <td>NaN</td>\n",
       "      <td>NaN</td>\n",
       "      <td>NaN</td>\n",
       "      <td>NaN</td>\n",
       "      <td>Sugar Candy - Others - fruits</td>\n",
       "      <td>Sugar Candy - Others - fruits</td>\n",
       "      <td>1460</td>\n",
       "    </tr>\n",
       "    <tr>\n",
       "      <th>29432</th>\n",
       "      <td>Hofer</td>\n",
       "      <td>NaN</td>\n",
       "      <td>NaN</td>\n",
       "      <td>NaN</td>\n",
       "      <td>NaN</td>\n",
       "      <td>NaN</td>\n",
       "      <td>NaN</td>\n",
       "      <td>NaN</td>\n",
       "      <td>NaN</td>\n",
       "      <td>NaN</td>\n",
       "      <td>...</td>\n",
       "      <td>NaN</td>\n",
       "      <td>sausage</td>\n",
       "      <td>refrigerated</td>\n",
       "      <td>NaN</td>\n",
       "      <td>NaN</td>\n",
       "      <td>NaN</td>\n",
       "      <td>NaN</td>\n",
       "      <td>Calf - sausage - refrigerated</td>\n",
       "      <td>Calf - sausage - refrigerated</td>\n",
       "      <td>2734</td>\n",
       "    </tr>\n",
       "    <tr>\n",
       "      <th>29433</th>\n",
       "      <td>Hofer</td>\n",
       "      <td>003-2768</td>\n",
       "      <td>0032768</td>\n",
       "      <td>https://drive.google.com/file/d/10pGcMXf7-1u5c...</td>\n",
       "      <td>view</td>\n",
       "      <td>Hühner Suppentopf mit Gemüse</td>\n",
       "      <td>NaN</td>\n",
       "      <td>NaN</td>\n",
       "      <td>NaN</td>\n",
       "      <td>NaN</td>\n",
       "      <td>...</td>\n",
       "      <td>NaN</td>\n",
       "      <td>prepared</td>\n",
       "      <td>refrigerated</td>\n",
       "      <td>NaN</td>\n",
       "      <td>NaN</td>\n",
       "      <td>NaN</td>\n",
       "      <td>NaN</td>\n",
       "      <td>Chicken - prepared - refrigerated</td>\n",
       "      <td>Chicken - prepared - refrigerated</td>\n",
       "      <td>0</td>\n",
       "    </tr>\n",
       "  </tbody>\n",
       "</table>\n",
       "<p>27537 rows × 23 columns</p>\n",
       "</div>"
      ],
      "text/plain": [
       "        Retailer                            Identifier  \\\n",
       "23230  Interspar                                   NaN   \n",
       "5639   Interspar  6c5fbc1b-8502-4b3b-9751-5eb9c682a183   \n",
       "10725  Interspar                                   NaN   \n",
       "22758  Interspar                                   NaN   \n",
       "23244  Interspar                                   NaN   \n",
       "...          ...                                   ...   \n",
       "29429      Hofer                              003-2764   \n",
       "29430      Hofer                              003-2765   \n",
       "29431      Hofer                              003-2766   \n",
       "29432      Hofer                                   NaN   \n",
       "29433      Hofer                              003-2768   \n",
       "\n",
       "                   Identifier without -  \\\n",
       "23230                               NaN   \n",
       "5639   6c5fbc1b85024b3b97515eb9c682a183   \n",
       "10725                               NaN   \n",
       "22758                               NaN   \n",
       "23244                               NaN   \n",
       "...                                 ...   \n",
       "29429                           0032764   \n",
       "29430                           0032765   \n",
       "29431                           0032766   \n",
       "29432                               NaN   \n",
       "29433                           0032768   \n",
       "\n",
       "                                                     URL article_number  \\\n",
       "23230  https://www.interspar.at/shop/lebensmittel/aia...  2020001920112   \n",
       "5639                                                 NaN            NaN   \n",
       "10725  https://www.interspar.at/shop/lebensmittel/kek...        5051083   \n",
       "22758  https://www.interspar.at/shop/lebensmittel/bul...  2020003135958   \n",
       "23244  https://www.interspar.at/shop/lebensmittel/aia...  2020001920150   \n",
       "...                                                  ...            ...   \n",
       "29429  https://drive.google.com/file/d/10pGcMXf7-1u5c...           view   \n",
       "29430  https://drive.google.com/file/d/10pGcMXf7-1u5c...           view   \n",
       "29431  https://drive.google.com/file/d/10pGcMXf7-1u5c...           view   \n",
       "29432                                                NaN            NaN   \n",
       "29433  https://drive.google.com/file/d/10pGcMXf7-1u5c...           view   \n",
       "\n",
       "                                            Product name  \\\n",
       "23230                      Aia Hendl Brustschnitzel Roma   \n",
       "5639                                   Aia Chicken Salad   \n",
       "10725                                Kekserei Cantuccini   \n",
       "22758  Bullrich Lutsch-Tabletten Säure–Basen–Balance ...   \n",
       "23244                       Aia Putenschnitzel hauchdünn   \n",
       "...                                                  ...   \n",
       "29429                         Kaubonbons mit Tattoo Cola   \n",
       "29430                     Kaubonbons mit Tattoo Erdbeere   \n",
       "29431                                            Maoween   \n",
       "29432                                                NaN   \n",
       "29433                       Hühner Suppentopf mit Gemüse   \n",
       "\n",
       "                               MATCH(1)                          MATCH(2)  \\\n",
       "23230                               NaN  25143aa881cf4dccbc4643d336b940d4   \n",
       "5639   6c5fbc1b85024b3b97515eb9c682a183                               NaN   \n",
       "10725                               NaN  e0fa2cd5d85b4c4aa9ecb7fba761e625   \n",
       "22758                               NaN  bf5b635622ca41449ec602f8657de905   \n",
       "23244                               NaN  c9ff85f922cb48f4b420898d75f87b34   \n",
       "...                                 ...                               ...   \n",
       "29429                               NaN                               NaN   \n",
       "29430                               NaN                               NaN   \n",
       "29431                               NaN                               NaN   \n",
       "29432                               NaN                               NaN   \n",
       "29433                               NaN                               NaN   \n",
       "\n",
       "                               MATCH(3)                      Matched UUID  \\\n",
       "23230  25143aa881cf4dccbc4643d336b940d4  25143aa881cf4dccbc4643d336b940d4   \n",
       "5639   6c5fbc1b85024b3b97515eb9c682a183  6c5fbc1b85024b3b97515eb9c682a183   \n",
       "10725  e0fa2cd5d85b4c4aa9ecb7fba761e625  e0fa2cd5d85b4c4aa9ecb7fba761e625   \n",
       "22758                               NaN  bf5b635622ca41449ec602f8657de905   \n",
       "23244  c9ff85f922cb48f4b420898d75f87b34  c9ff85f922cb48f4b420898d75f87b34   \n",
       "...                                 ...                               ...   \n",
       "29429                               NaN                               NaN   \n",
       "29430                               NaN                               NaN   \n",
       "29431                               NaN                               NaN   \n",
       "29432                               NaN                               NaN   \n",
       "29433                               NaN                               NaN   \n",
       "\n",
       "       ...  Ingredients  Food Processing Stocking/Storage Inside Packaging  \\\n",
       "23230  ...          NaN         prepared     refrigerated              NaN   \n",
       "5639   ...      chicken              NaN     refrigerated              NaN   \n",
       "10725  ...         nuts              NaN              NaN              NaN   \n",
       "22758  ...          NaN              NaN              NaN              NaN   \n",
       "23244  ...          NaN              raw     refrigerated              NaN   \n",
       "...    ...          ...              ...              ...              ...   \n",
       "29429  ...       others              NaN              NaN              NaN   \n",
       "29430  ...       fruits              NaN              NaN              NaN   \n",
       "29431  ...       fruits              NaN              NaN              NaN   \n",
       "29432  ...          NaN          sausage     refrigerated              NaN   \n",
       "29433  ...          NaN         prepared     refrigerated              NaN   \n",
       "\n",
       "      Food Preperation Generic_product_name  \\\n",
       "23230              NaN                  NaN   \n",
       "5639               NaN                  NaN   \n",
       "10725              NaN                  NaN   \n",
       "22758              NaN                  NaN   \n",
       "23244              NaN                  NaN   \n",
       "...                ...                  ...   \n",
       "29429              NaN                  NaN   \n",
       "29430              NaN                  NaN   \n",
       "29431              NaN                  NaN   \n",
       "29432              NaN                  NaN   \n",
       "29433              NaN                  NaN   \n",
       "\n",
       "      German translation (Generic product name only)  \\\n",
       "23230                                            NaN   \n",
       "5639                                             NaN   \n",
       "10725                                            NaN   \n",
       "22758                                            NaN   \n",
       "23244                                            NaN   \n",
       "...                                              ...   \n",
       "29429                                            NaN   \n",
       "29430                                            NaN   \n",
       "29431                                            NaN   \n",
       "29432                                            NaN   \n",
       "29433                                            NaN   \n",
       "\n",
       "                                   Final Generic Product  \\\n",
       "23230                  Chicken - prepared - refrigerated   \n",
       "5639   Ready made-Salads - Meat others - chicken - re...   \n",
       "10725                           Cookies with nuts - nuts   \n",
       "22758                                    Random Category   \n",
       "23244                        Turkey - raw - refrigerated   \n",
       "...                                                  ...   \n",
       "29429                      Sugar Candy - Others - others   \n",
       "29430                      Sugar Candy - Others - fruits   \n",
       "29431                      Sugar Candy - Others - fruits   \n",
       "29432                      Calf - sausage - refrigerated   \n",
       "29433                  Chicken - prepared - refrigerated   \n",
       "\n",
       "             Final Generic Product (only classification)  \\\n",
       "23230                  Chicken - prepared - refrigerated   \n",
       "5639   Ready made-Salads - Meat others - chicken - re...   \n",
       "10725                           Cookies with nuts - nuts   \n",
       "22758                                    Random Category   \n",
       "23244                        Turkey - raw - refrigerated   \n",
       "...                                                  ...   \n",
       "29429                      Sugar Candy - Others - others   \n",
       "29430                      Sugar Candy - Others - fruits   \n",
       "29431                      Sugar Candy - Others - fruits   \n",
       "29432                      Calf - sausage - refrigerated   \n",
       "29433                  Chicken - prepared - refrigerated   \n",
       "\n",
       "      IDX Final Generic Product  \n",
       "23230                         0  \n",
       "5639                          1  \n",
       "10725                         2  \n",
       "22758                         3  \n",
       "23244                         4  \n",
       "...                         ...  \n",
       "29429                      1429  \n",
       "29430                      1460  \n",
       "29431                      1460  \n",
       "29432                      2734  \n",
       "29433                         0  \n",
       "\n",
       "[27537 rows x 23 columns]"
      ]
     },
     "execution_count": 4,
     "metadata": {},
     "output_type": "execute_result"
    }
   ],
   "source": [
    "data"
   ]
  },
  {
   "cell_type": "markdown",
   "metadata": {},
   "source": [
    "<h2>Each Group in Each Attribute</h2>"
   ]
  },
  {
   "cell_type": "code",
   "execution_count": 5,
   "metadata": {},
   "outputs": [
    {
     "data": {
      "text/plain": [
       "Class/Brick\n",
       "#Prepared Meal - Meat; Prepared Meal - Meat Others      1\n",
       "#baking mixture - oat based                             1\n",
       "#baking mixture - spelt based                           1\n",
       "AUT Fruits; Apples                                     47\n",
       "AUT Fruits; Apricots                                   14\n",
       "                                                     ... \n",
       "Yoghurt (Cow); Fruit Yoghurt (Cow)                    219\n",
       "Yoghurt (Cow); Natural Yoghurt (Cow)                   91\n",
       "Yoghurt (Goat); Natural Yoghurt (Goat)                  3\n",
       "Yoghurt (Sheep); Fruit Yoghurt (Sheep)                  5\n",
       "Yoghurt (Sheep); Natural Yoghurt (Sheep)                5\n",
       "Name: Product name, Length: 875, dtype: int64"
      ]
     },
     "execution_count": 5,
     "metadata": {},
     "output_type": "execute_result"
    }
   ],
   "source": [
    "data.groupby('Class/Brick')['Product name'].nunique()"
   ]
  },
  {
   "cell_type": "code",
   "execution_count": 6,
   "metadata": {},
   "outputs": [
    {
     "data": {
      "text/plain": [
       "Generic_product_name\n",
       " Meat with Dumplings                 2\n",
       " Substitute - Coconut Rice Drink     1\n",
       " Vegetables with Quinoa              1\n",
       "Advocaat                             1\n",
       "Agar-agar (sheets)                   1\n",
       "                                    ..\n",
       "Yeast Dumpling                       6\n",
       "Yeast Dumplings                      2\n",
       "Yoghurt with Chocolate               6\n",
       "Yoghurt with Coffee                  6\n",
       "Yoghurt with Vanilla                17\n",
       "Name: Product name, Length: 497, dtype: int64"
      ]
     },
     "execution_count": 6,
     "metadata": {},
     "output_type": "execute_result"
    }
   ],
   "source": [
    "data.groupby('Generic_product_name')['Product name'].nunique()"
   ]
  },
  {
   "cell_type": "code",
   "execution_count": 69,
   "metadata": {},
   "outputs": [
    {
     "data": {
      "text/html": [
       "<div>\n",
       "<style scoped>\n",
       "    .dataframe tbody tr th:only-of-type {\n",
       "        vertical-align: middle;\n",
       "    }\n",
       "\n",
       "    .dataframe tbody tr th {\n",
       "        vertical-align: top;\n",
       "    }\n",
       "\n",
       "    .dataframe thead th {\n",
       "        text-align: right;\n",
       "    }\n",
       "</style>\n",
       "<table border=\"1\" class=\"dataframe\">\n",
       "  <thead>\n",
       "    <tr style=\"text-align: right;\">\n",
       "      <th></th>\n",
       "      <th>Product name</th>\n",
       "    </tr>\n",
       "    <tr>\n",
       "      <th>Final Generic Product</th>\n",
       "      <th></th>\n",
       "    </tr>\n",
       "  </thead>\n",
       "  <tbody>\n",
       "    <tr>\n",
       "      <th>Meat with Dumplings - pork - frozen</th>\n",
       "      <td>1</td>\n",
       "    </tr>\n",
       "    <tr>\n",
       "      <th>Meat with Dumplings - pork - refrigerated</th>\n",
       "      <td>1</td>\n",
       "    </tr>\n",
       "    <tr>\n",
       "      <th>Substitute - Coconut Rice Drink - coconut - shelfstable</th>\n",
       "      <td>1</td>\n",
       "    </tr>\n",
       "    <tr>\n",
       "      <th>Vegetables with Quinoa - plain - frozen</th>\n",
       "      <td>1</td>\n",
       "    </tr>\n",
       "    <tr>\n",
       "      <th>(Double) Cream (Cow)</th>\n",
       "      <td>1</td>\n",
       "    </tr>\n",
       "    <tr>\n",
       "      <th>...</th>\n",
       "      <td>...</td>\n",
       "    </tr>\n",
       "    <tr>\n",
       "      <th>Yoghurt with Vanilla - lactose-free - refrigerated</th>\n",
       "      <td>1</td>\n",
       "    </tr>\n",
       "    <tr>\n",
       "      <th>Zander - prepared-processed - frozen</th>\n",
       "      <td>2</td>\n",
       "    </tr>\n",
       "    <tr>\n",
       "      <th>Zander - unprepared-unprocessed - frozen</th>\n",
       "      <td>3</td>\n",
       "    </tr>\n",
       "    <tr>\n",
       "      <th>Zander - unprepared-unprocessed - refrigerated</th>\n",
       "      <td>1</td>\n",
       "    </tr>\n",
       "    <tr>\n",
       "      <th>chokeberry - raw - shelfstable</th>\n",
       "      <td>1</td>\n",
       "    </tr>\n",
       "  </tbody>\n",
       "</table>\n",
       "<p>1685 rows × 1 columns</p>\n",
       "</div>"
      ],
      "text/plain": [
       "                                                    Product name\n",
       "Final Generic Product                                           \n",
       " Meat with Dumplings - pork - frozen                           1\n",
       " Meat with Dumplings - pork - refrigerated                     1\n",
       " Substitute - Coconut Rice Drink - coconut - sh...             1\n",
       " Vegetables with Quinoa - plain - frozen                       1\n",
       "(Double) Cream (Cow)                                           1\n",
       "...                                                          ...\n",
       "Yoghurt with Vanilla - lactose-free - refrigerated             1\n",
       "Zander - prepared-processed - frozen                           2\n",
       "Zander - unprepared-unprocessed - frozen                       3\n",
       "Zander - unprepared-unprocessed - refrigerated                 1\n",
       "chokeberry - raw - shelfstable                                 1\n",
       "\n",
       "[1685 rows x 1 columns]"
      ]
     },
     "execution_count": 69,
     "metadata": {},
     "output_type": "execute_result"
    }
   ],
   "source": [
    "fgb_group=data.groupby('Final Generic Product')['Product name'].nunique()\n",
    "fgb_group_df=pd.DataFrame(fgb_group)\n",
    "fgb_group_df[fgb_group_df['Product name']<4]\n",
    "# fgb_group_df\n",
    "# fgb_group_df"
   ]
  },
  {
   "cell_type": "code",
   "execution_count": 8,
   "metadata": {},
   "outputs": [
    {
     "data": {
      "text/plain": [
       "Final Generic Product (only classification)\n",
       "(Double) Cream (Cow)                                   1\n",
       "(Double) Cream (Cow) - lactose-free - refrigerated     2\n",
       "(Double) Cream (Cow) - with lactose                    0\n",
       "(Double) Cream (Cow) - with lactose - refrigerated    50\n",
       "(Double) Cream (Cow) - with lactose - shelfstable     11\n",
       "                                                      ..\n",
       "Zander - prepared-processed - frozen                   2\n",
       "Zander - unprepared-unprocessed - frozen               3\n",
       "Zander - unprepared-unprocessed - refrigerated         1\n",
       "Zucchini - raw - shelfstable                           7\n",
       "chokeberry - raw - shelfstable                         1\n",
       "Name: Product name, Length: 2123, dtype: int64"
      ]
     },
     "execution_count": 8,
     "metadata": {},
     "output_type": "execute_result"
    }
   ],
   "source": [
    "data.groupby('Final Generic Product (only classification)')['Product name'].nunique()"
   ]
  },
  {
   "cell_type": "code",
   "execution_count": 9,
   "metadata": {},
   "outputs": [
    {
     "data": {
      "text/plain": [
       "Ingredients\n",
       " fish                       3\n",
       " noodle based soup-add     55\n",
       "#                          12\n",
       "# lentils                   2\n",
       "#cereals                    1\n",
       "                         ... \n",
       "with pork beef              5\n",
       "with seeds                  3\n",
       "with vegetables            11\n",
       "without dairy              18\n",
       "without egg               226\n",
       "Name: Product name, Length: 162, dtype: int64"
      ]
     },
     "execution_count": 9,
     "metadata": {},
     "output_type": "execute_result"
    }
   ],
   "source": [
    "data.groupby('Ingredients')['Product name'].nunique()"
   ]
  },
  {
   "cell_type": "code",
   "execution_count": 10,
   "metadata": {},
   "outputs": [
    {
     "data": {
      "text/plain": [
       "Food Preperation\n",
       "baking     147\n",
       "cooking     20\n",
       "ready      603\n",
       "Name: Product name, dtype: int64"
      ]
     },
     "execution_count": 10,
     "metadata": {},
     "output_type": "execute_result"
    }
   ],
   "source": [
    "data.groupby('Food Preperation')['Product name'].nunique()"
   ]
  },
  {
   "cell_type": "code",
   "execution_count": 11,
   "metadata": {},
   "outputs": [
    {
     "data": {
      "text/plain": [
       "Stocking/Storage\n",
       "#                  1\n",
       "canned             2\n",
       "frozen          1155\n",
       "refrigerated    4684\n",
       "shelfstable     4769\n",
       "Name: Product name, dtype: int64"
      ]
     },
     "execution_count": 11,
     "metadata": {},
     "output_type": "execute_result"
    }
   ],
   "source": [
    "data.groupby('Stocking/Storage')['Product name'].nunique()"
   ]
  },
  {
   "cell_type": "code",
   "execution_count": 12,
   "metadata": {},
   "outputs": [
    {
     "data": {
      "text/plain": [
       "Food Processing\n",
       "#                                          3\n",
       "#based on lentil, rice and pea flour       1\n",
       "Refined-grain                             49\n",
       "Whole-grain                                8\n",
       "barn                                      26\n",
       "canned                                   151\n",
       "concentrate                              139\n",
       "direct                                   151\n",
       "dried                                    244\n",
       "flakes                                    33\n",
       "flour                                     74\n",
       "free-range                                18\n",
       "gluten-free                               17\n",
       "grain                                    183\n",
       "granulate                                 14\n",
       "instant                                  199\n",
       "legume-based                               1\n",
       "lemonade                                  84\n",
       "liquid                                     7\n",
       "mixed with others                          1\n",
       "nectar                                    24\n",
       "organic                                    8\n",
       "pills                                     12\n",
       "pot                                       14\n",
       "prepared                                 319\n",
       "prepared-processed                       158\n",
       "preserved                                137\n",
       "processed                                598\n",
       "raw                                     1331\n",
       "refined-grain                           1008\n",
       "roasted                                   69\n",
       "sausage                                  275\n",
       "semolina                                  20\n",
       "smoothie                                  67\n",
       "unprepared-unprocessed                   103\n",
       "whole-grain                              154\n",
       "with sparkling water                      45\n",
       "with sparkling water                       1\n",
       "Name: Product name, dtype: int64"
      ]
     },
     "execution_count": 12,
     "metadata": {},
     "output_type": "execute_result"
    }
   ],
   "source": [
    "data.groupby('Food Processing')['Product name'].nunique()"
   ]
  },
  {
   "cell_type": "markdown",
   "metadata": {},
   "source": [
    "<h2>NaN Values in Each Attribute</h2>"
   ]
  },
  {
   "cell_type": "code",
   "execution_count": 13,
   "metadata": {},
   "outputs": [
    {
     "data": {
      "text/plain": [
       "15708"
      ]
     },
     "execution_count": 13,
     "metadata": {},
     "output_type": "execute_result"
    }
   ],
   "source": [
    "len(raw)-len(raw[raw['energy_per_100g'].isna()])"
   ]
  },
  {
   "cell_type": "code",
   "execution_count": 14,
   "metadata": {
    "scrolled": false
   },
   "outputs": [
    {
     "data": {
      "text/plain": [
       "9578"
      ]
     },
     "execution_count": 14,
     "metadata": {},
     "output_type": "execute_result"
    }
   ],
   "source": [
    "len(raw[raw['net_weight'].isna()])"
   ]
  },
  {
   "cell_type": "code",
   "execution_count": 15,
   "metadata": {
    "scrolled": true
   },
   "outputs": [
    {
     "data": {
      "text/plain": [
       "14437"
      ]
     },
     "execution_count": 15,
     "metadata": {},
     "output_type": "execute_result"
    }
   ],
   "source": [
    "len(raw[raw['energy_per_100g'].isna()])"
   ]
  },
  {
   "cell_type": "code",
   "execution_count": 16,
   "metadata": {
    "scrolled": true
   },
   "outputs": [
    {
     "data": {
      "text/plain": [
       "2494"
      ]
     },
     "execution_count": 16,
     "metadata": {},
     "output_type": "execute_result"
    }
   ],
   "source": [
    "len(raw[raw['Class/Brick'].isna()])"
   ]
  },
  {
   "cell_type": "code",
   "execution_count": 17,
   "metadata": {},
   "outputs": [
    {
     "data": {
      "text/plain": [
       "28188"
      ]
     },
     "execution_count": 17,
     "metadata": {},
     "output_type": "execute_result"
    }
   ],
   "source": [
    "len(raw[raw['Generic_product_name'].isna()])"
   ]
  },
  {
   "cell_type": "code",
   "execution_count": 18,
   "metadata": {},
   "outputs": [
    {
     "data": {
      "text/plain": [
       "2608"
      ]
     },
     "execution_count": 18,
     "metadata": {},
     "output_type": "execute_result"
    }
   ],
   "source": [
    "len(raw[raw['Final Generic Product'].isna()])"
   ]
  },
  {
   "cell_type": "code",
   "execution_count": 19,
   "metadata": {},
   "outputs": [
    {
     "data": {
      "text/plain": [
       "2609"
      ]
     },
     "execution_count": 19,
     "metadata": {},
     "output_type": "execute_result"
    }
   ],
   "source": [
    "len(raw[raw['Final Generic Product (only classification)'].isna()])"
   ]
  },
  {
   "cell_type": "markdown",
   "metadata": {},
   "source": [
    "<h2>Energy Range for Each <i>Final Generic Product</i></h2>"
   ]
  },
  {
   "cell_type": "code",
   "execution_count": 20,
   "metadata": {},
   "outputs": [],
   "source": [
    "fgp_data=data[['Product name','energy_per_100g','Final Generic Product']]\n",
    "fgb_ana=fgp_data.groupby(by=['Final Generic Product'])['energy_per_100g'].unique()\n",
    "fgb=pd.DataFrame(fgb_ana)"
   ]
  },
  {
   "cell_type": "code",
   "execution_count": 21,
   "metadata": {},
   "outputs": [],
   "source": [
    "def minmax(para,df,col):\n",
    "    if all(np.isnan(df[col])):\n",
    "        return np.nan\n",
    "    else:\n",
    "        temp=df[col]\n",
    "        temp1=temp[~np.isnan(temp)]\n",
    "        if para == 'min':\n",
    "            return temp1.min()\n",
    "        elif para == 'max':\n",
    "            return temp1.max()\n",
    "        elif para=='med':\n",
    "            return np.median(temp1)\n",
    "        elif para =='mean':\n",
    "            if len(temp1)<2:\n",
    "                return temp1.min()\n",
    "            else:\n",
    "                return np.mean(temp1)\n",
    "        elif para =='range':\n",
    "            return temp1.max()-temp1.min()\n",
    "        elif para=='std':\n",
    "            if len(temp1)<2:\n",
    "                return 0\n",
    "            else:\n",
    "                return np.std(temp1)"
   ]
  },
  {
   "cell_type": "code",
   "execution_count": 22,
   "metadata": {},
   "outputs": [],
   "source": [
    "fgb['Number of Products']=fgb.apply(lambda fgb:len(fgb['energy_per_100g']),axis=1)\n",
    "fgb['Min']=fgb.apply(lambda fgb:minmax('min',fgb,'energy_per_100g'),axis=1)\n",
    "fgb['Max']=fgb.apply(lambda fgb:minmax('max',fgb,'energy_per_100g'),axis=1)\n",
    "fgb['Median']=fgb.apply(lambda fgb:minmax('med',fgb,'energy_per_100g'),axis=1)\n",
    "fgb['Mean']=fgb.apply(lambda fgb:minmax('mean',fgb,'energy_per_100g'),axis=1)\n",
    "fgb['Range']=fgb.apply(lambda fgb:minmax('range',fgb,'energy_per_100g'),axis=1)\n",
    "fgb['Std']=fgb.apply(lambda fgb:minmax('std',fgb,'energy_per_100g'),axis=1)"
   ]
  },
  {
   "cell_type": "code",
   "execution_count": 23,
   "metadata": {},
   "outputs": [],
   "source": [
    "fgb=fgb.sort_values(by=['Std'],ascending=False)\n",
    "fgb=fgb.reset_index()"
   ]
  },
  {
   "cell_type": "code",
   "execution_count": 24,
   "metadata": {},
   "outputs": [],
   "source": [
    "fgb.to_csv('[Overview] Final Generic Product Analysis.csv')"
   ]
  },
  {
   "cell_type": "markdown",
   "metadata": {},
   "source": [
    "<h2>Visualising Energy Range</h2>"
   ]
  },
  {
   "cell_type": "code",
   "execution_count": 25,
   "metadata": {
    "scrolled": true
   },
   "outputs": [
    {
     "data": {
      "image/png": "[encoded data removed]",
      "text/plain": [
       "<Figure size 432x288 with 1 Axes>"
      ]
     },
     "metadata": {
      "needs_background": "light"
     },
     "output_type": "display_data"
    }
   ],
   "source": [
    "x=fgb['Mean'].to_numpy()\n",
    "y=fgb['Median'].to_numpy()\n",
    "e=fgb['Std']\n",
    "# figure(figsize(10,8),dpi=80)\n",
    "plt.errorbar(x,y,yerr=e,fmt='o',alpha=0.2)\n",
    "plt.show()"
   ]
  },
  {
   "cell_type": "code",
   "execution_count": 26,
   "metadata": {
    "scrolled": true
   },
   "outputs": [
    {
     "name": "stderr",
     "output_type": "stream",
     "text": [
      "/usr/local/lib/python3.8/site-packages/pandas/plotting/_matplotlib/tools.py:331: MatplotlibDeprecationWarning: \n",
      "The is_first_col function was deprecated in Matplotlib 3.4 and will be removed two minor releases later. Use ax.get_subplotspec().is_first_col() instead.\n",
      "  if ax.is_first_col():\n"
     ]
    },
    {
     "data": {
      "text/plain": [
       "<AxesSubplot:xlabel='Range', ylabel='Std'>"
      ]
     },
     "execution_count": 26,
     "metadata": {},
     "output_type": "execute_result"
    },
    {
     "data": {
      "image/png": "[encoded data removed]",
      "text/plain": [
       "<Figure size 720x576 with 2 Axes>"
      ]
     },
     "metadata": {
      "needs_background": "light"
     },
     "output_type": "display_data"
    }
   ],
   "source": [
    "fgb.plot(kind='scatter',x='Range',y='Std',alpha=0.3,\n",
    "        s=fgb['Median']/100,label='Median',figsize=(10,8),\n",
    "        c='Number of Products',cmap=plt.get_cmap('jet'),colorbar=True)"
   ]
  },
  {
   "cell_type": "markdown",
   "metadata": {},
   "source": [
    "<h2>Analysing Energy Range - Detecting Outliers</h2>"
   ]
  },
  {
   "cell_type": "code",
   "execution_count": 27,
   "metadata": {},
   "outputs": [],
   "source": [
    "def outlier(df,para):\n",
    "    temp=df\n",
    "    mean=temp['Mean']\n",
    "    std=temp['Std']\n",
    "    distance_from_mean=abs(temp['energy_per_100g']-mean)\n",
    "    max_deviation=2\n",
    "    not_outlier=distance_from_mean<max_deviation*std\n",
    "    if para=='outlier':        \n",
    "        res=temp['energy_per_100g'][~not_outlier]\n",
    "        res=res[~np.isnan(res)]\n",
    "    elif para=='wo_outlier':\n",
    "        res=temp['energy_per_100g'][not_outlier]\n",
    "        res=res[~np.isnan(res)]\n",
    "    return res"
   ]
  },
  {
   "cell_type": "code",
   "execution_count": 28,
   "metadata": {},
   "outputs": [],
   "source": [
    "fgb_out=fgb\n",
    "fgb_out['Outlier Energy']=fgb_out.apply(lambda fgb_out:outlier(fgb_out,'outlier'),axis=1)\n",
    "fgb_out['Without Outlier Energy']=fgb_out.apply(lambda fgb_out:outlier(fgb_out,'wo_outlier'),axis=1)"
   ]
  },
  {
   "cell_type": "code",
   "execution_count": 29,
   "metadata": {},
   "outputs": [],
   "source": [
    "fgb_out['W/O Outlier Min']=fgb_out.apply(lambda fgb_out:minmax('min',fgb_out,'Without Outlier Energy'),axis=1)\n",
    "fgb_out['W/O Outlier Max']=fgb_out.apply(lambda fgb_out:minmax('max',fgb_out,'Without Outlier Energy'),axis=1)\n",
    "fgb_out['W/O Outlier Median']=fgb_out.apply(lambda fgb_out:minmax('med',fgb_out,'Without Outlier Energy'),axis=1)\n",
    "fgb_out['W/O Outlier Mean']=fgb_out.apply(lambda fgb_out:minmax('mean',fgb_out,'Without Outlier Energy'),axis=1)\n",
    "fgb_out['W/O Outlier Range']=fgb_out.apply(lambda fgb_out:minmax('range',fgb_out,'Without Outlier Energy'),axis=1)\n",
    "fgb_out['W/O Outlier Std']=fgb_out.apply(lambda fgb_out:minmax('std',fgb_out,'Without Outlier Energy'),axis=1)"
   ]
  },
  {
   "cell_type": "code",
   "execution_count": 30,
   "metadata": {
    "scrolled": true
   },
   "outputs": [],
   "source": [
    "fgb_out.to_csv('[Overview] With Outliers Final Generic Product Analysis.csv')"
   ]
  },
  {
   "cell_type": "code",
   "execution_count": 31,
   "metadata": {},
   "outputs": [],
   "source": [
    "out=0\n",
    "for arr in fgb_out['Outlier Energy']:\n",
    "    if len(arr)!=0:\n",
    "        out=out+1"
   ]
  },
  {
   "cell_type": "code",
   "execution_count": 32,
   "metadata": {},
   "outputs": [],
   "source": [
    "ran70wo=0\n",
    "for val in fgb_out['W/O Outlier Range']:\n",
    "    if val>70:\n",
    "        ran70wo=ran70wo+1"
   ]
  },
  {
   "cell_type": "code",
   "execution_count": 33,
   "metadata": {},
   "outputs": [],
   "source": [
    "ran70=0\n",
    "for val in fgb_out['Range']:\n",
    "    if val>70:\n",
    "        ran70=ran70+1"
   ]
  },
  {
   "cell_type": "code",
   "execution_count": 34,
   "metadata": {},
   "outputs": [],
   "source": [
    "ener=0\n",
    "for val in fgb_out['energy_per_100g']:\n",
    "    if len(val)>2:\n",
    "        ener=ener+1"
   ]
  },
  {
   "cell_type": "code",
   "execution_count": 35,
   "metadata": {},
   "outputs": [
    {
     "name": "stdout",
     "output_type": "stream",
     "text": [
      "Final General Product :  2741\n",
      "Final General Product with more than 2 Energy Values :  1063\n",
      "Final General Product with Outliers :  1231\n",
      "Final General Product with Outliers Range > 70 :  620\n",
      "Final General Product without Outliers Range > 70 :  562\n"
     ]
    }
   ],
   "source": [
    "print(\"Final General Product : \",len(fgb_out))\n",
    "print(\"Final General Product with more than 2 Energy Values : \",ener)\n",
    "print(\"Final General Product with Outliers : \",out)\n",
    "print(\"Final General Product with Outliers Range > 70 : \",ran70)\n",
    "print(\"Final General Product without Outliers Range > 70 : \",ran70wo)"
   ]
  },
  {
   "cell_type": "code",
   "execution_count": 36,
   "metadata": {},
   "outputs": [
    {
     "data": {
      "text/html": [
       "<div>\n",
       "<style scoped>\n",
       "    .dataframe tbody tr th:only-of-type {\n",
       "        vertical-align: middle;\n",
       "    }\n",
       "\n",
       "    .dataframe tbody tr th {\n",
       "        vertical-align: top;\n",
       "    }\n",
       "\n",
       "    .dataframe thead th {\n",
       "        text-align: right;\n",
       "    }\n",
       "</style>\n",
       "<table border=\"1\" class=\"dataframe\">\n",
       "  <thead>\n",
       "    <tr style=\"text-align: right;\">\n",
       "      <th></th>\n",
       "      <th>Final Generic Product</th>\n",
       "      <th>energy_per_100g</th>\n",
       "      <th>Number of Products</th>\n",
       "      <th>Min</th>\n",
       "      <th>Max</th>\n",
       "      <th>Median</th>\n",
       "      <th>Mean</th>\n",
       "      <th>Range</th>\n",
       "      <th>Std</th>\n",
       "      <th>Outlier Energy</th>\n",
       "      <th>Without Outlier Energy</th>\n",
       "      <th>W/O Outlier Min</th>\n",
       "      <th>W/O Outlier Max</th>\n",
       "      <th>W/O Outlier Median</th>\n",
       "      <th>W/O Outlier Mean</th>\n",
       "      <th>W/O Outlier Range</th>\n",
       "      <th>W/O Outlier Std</th>\n",
       "    </tr>\n",
       "  </thead>\n",
       "  <tbody>\n",
       "    <tr>\n",
       "      <th>0</th>\n",
       "      <td>Croissant - chocolate filling - refined-grain ...</td>\n",
       "      <td>[448.0, 1871.0]</td>\n",
       "      <td>2</td>\n",
       "      <td>448.0</td>\n",
       "      <td>1871.0</td>\n",
       "      <td>1159.5</td>\n",
       "      <td>1159.500000</td>\n",
       "      <td>1423.0</td>\n",
       "      <td>711.500000</td>\n",
       "      <td>[]</td>\n",
       "      <td>[448.0, 1871.0]</td>\n",
       "      <td>448.0</td>\n",
       "      <td>1871.0</td>\n",
       "      <td>1159.5</td>\n",
       "      <td>1159.500000</td>\n",
       "      <td>1423.0</td>\n",
       "      <td>711.500000</td>\n",
       "    </tr>\n",
       "    <tr>\n",
       "      <th>1</th>\n",
       "      <td>Snack - Peanut</td>\n",
       "      <td>[458.0, 477.0, 503.0, 511.0, 531.0, 538.0, 540...</td>\n",
       "      <td>15</td>\n",
       "      <td>458.0</td>\n",
       "      <td>2278.0</td>\n",
       "      <td>543.5</td>\n",
       "      <td>671.928571</td>\n",
       "      <td>1820.0</td>\n",
       "      <td>448.363766</td>\n",
       "      <td>[2278.0]</td>\n",
       "      <td>[458.0, 477.0, 503.0, 511.0, 531.0, 538.0, 540...</td>\n",
       "      <td>458.0</td>\n",
       "      <td>621.0</td>\n",
       "      <td>540.0</td>\n",
       "      <td>548.384615</td>\n",
       "      <td>163.0</td>\n",
       "      <td>53.013117</td>\n",
       "    </tr>\n",
       "    <tr>\n",
       "      <th>2</th>\n",
       "      <td>Garlic Sauce</td>\n",
       "      <td>[80.0, 110.0, 239.0, 247.0, 248.0, 262.0, 271....</td>\n",
       "      <td>12</td>\n",
       "      <td>80.0</td>\n",
       "      <td>1650.0</td>\n",
       "      <td>262.0</td>\n",
       "      <td>375.545455</td>\n",
       "      <td>1570.0</td>\n",
       "      <td>412.116348</td>\n",
       "      <td>[1650.0]</td>\n",
       "      <td>[80.0, 110.0, 239.0, 247.0, 248.0, 262.0, 271....</td>\n",
       "      <td>80.0</td>\n",
       "      <td>385.0</td>\n",
       "      <td>255.0</td>\n",
       "      <td>248.100000</td>\n",
       "      <td>305.0</td>\n",
       "      <td>90.322146</td>\n",
       "    </tr>\n",
       "    <tr>\n",
       "      <th>3</th>\n",
       "      <td>Ice lolly - Cream ice - vegan</td>\n",
       "      <td>[276.0, 1093.0]</td>\n",
       "      <td>2</td>\n",
       "      <td>276.0</td>\n",
       "      <td>1093.0</td>\n",
       "      <td>684.5</td>\n",
       "      <td>684.500000</td>\n",
       "      <td>817.0</td>\n",
       "      <td>408.500000</td>\n",
       "      <td>[]</td>\n",
       "      <td>[276.0, 1093.0]</td>\n",
       "      <td>276.0</td>\n",
       "      <td>1093.0</td>\n",
       "      <td>684.5</td>\n",
       "      <td>684.500000</td>\n",
       "      <td>817.0</td>\n",
       "      <td>408.500000</td>\n",
       "    </tr>\n",
       "    <tr>\n",
       "      <th>4</th>\n",
       "      <td>Pesto - Pomodoro</td>\n",
       "      <td>[69.0, 86.0, 117.0, 279.0, 322.0, 335.0, 385.0...</td>\n",
       "      <td>8</td>\n",
       "      <td>69.0</td>\n",
       "      <td>1406.0</td>\n",
       "      <td>300.5</td>\n",
       "      <td>374.875000</td>\n",
       "      <td>1337.0</td>\n",
       "      <td>406.264519</td>\n",
       "      <td>[1406.0]</td>\n",
       "      <td>[69.0, 86.0, 117.0, 279.0, 322.0, 335.0, 385.0]</td>\n",
       "      <td>69.0</td>\n",
       "      <td>385.0</td>\n",
       "      <td>279.0</td>\n",
       "      <td>227.571429</td>\n",
       "      <td>316.0</td>\n",
       "      <td>122.649160</td>\n",
       "    </tr>\n",
       "    <tr>\n",
       "      <th>...</th>\n",
       "      <td>...</td>\n",
       "      <td>...</td>\n",
       "      <td>...</td>\n",
       "      <td>...</td>\n",
       "      <td>...</td>\n",
       "      <td>...</td>\n",
       "      <td>...</td>\n",
       "      <td>...</td>\n",
       "      <td>...</td>\n",
       "      <td>...</td>\n",
       "      <td>...</td>\n",
       "      <td>...</td>\n",
       "      <td>...</td>\n",
       "      <td>...</td>\n",
       "      <td>...</td>\n",
       "      <td>...</td>\n",
       "      <td>...</td>\n",
       "    </tr>\n",
       "    <tr>\n",
       "      <th>2736</th>\n",
       "      <td>Williams Pear Liqueur</td>\n",
       "      <td>[nan]</td>\n",
       "      <td>1</td>\n",
       "      <td>NaN</td>\n",
       "      <td>NaN</td>\n",
       "      <td>NaN</td>\n",
       "      <td>NaN</td>\n",
       "      <td>NaN</td>\n",
       "      <td>NaN</td>\n",
       "      <td>[]</td>\n",
       "      <td>[]</td>\n",
       "      <td>NaN</td>\n",
       "      <td>NaN</td>\n",
       "      <td>NaN</td>\n",
       "      <td>NaN</td>\n",
       "      <td>NaN</td>\n",
       "      <td>NaN</td>\n",
       "    </tr>\n",
       "    <tr>\n",
       "      <th>2737</th>\n",
       "      <td>Wine based Mixed Drink</td>\n",
       "      <td>[nan]</td>\n",
       "      <td>1</td>\n",
       "      <td>NaN</td>\n",
       "      <td>NaN</td>\n",
       "      <td>NaN</td>\n",
       "      <td>NaN</td>\n",
       "      <td>NaN</td>\n",
       "      <td>NaN</td>\n",
       "      <td>[]</td>\n",
       "      <td>[]</td>\n",
       "      <td>NaN</td>\n",
       "      <td>NaN</td>\n",
       "      <td>NaN</td>\n",
       "      <td>NaN</td>\n",
       "      <td>NaN</td>\n",
       "      <td>NaN</td>\n",
       "    </tr>\n",
       "    <tr>\n",
       "      <th>2738</th>\n",
       "      <td>Yeast Dumplings - frozen</td>\n",
       "      <td>[nan]</td>\n",
       "      <td>1</td>\n",
       "      <td>NaN</td>\n",
       "      <td>NaN</td>\n",
       "      <td>NaN</td>\n",
       "      <td>NaN</td>\n",
       "      <td>NaN</td>\n",
       "      <td>NaN</td>\n",
       "      <td>[]</td>\n",
       "      <td>[]</td>\n",
       "      <td>NaN</td>\n",
       "      <td>NaN</td>\n",
       "      <td>NaN</td>\n",
       "      <td>NaN</td>\n",
       "      <td>NaN</td>\n",
       "      <td>NaN</td>\n",
       "    </tr>\n",
       "    <tr>\n",
       "      <th>2739</th>\n",
       "      <td>Zucchini - raw - shelfstable</td>\n",
       "      <td>[nan]</td>\n",
       "      <td>1</td>\n",
       "      <td>NaN</td>\n",
       "      <td>NaN</td>\n",
       "      <td>NaN</td>\n",
       "      <td>NaN</td>\n",
       "      <td>NaN</td>\n",
       "      <td>NaN</td>\n",
       "      <td>[]</td>\n",
       "      <td>[]</td>\n",
       "      <td>NaN</td>\n",
       "      <td>NaN</td>\n",
       "      <td>NaN</td>\n",
       "      <td>NaN</td>\n",
       "      <td>NaN</td>\n",
       "      <td>NaN</td>\n",
       "    </tr>\n",
       "    <tr>\n",
       "      <th>2740</th>\n",
       "      <td>chokeberry - raw - shelfstable</td>\n",
       "      <td>[nan]</td>\n",
       "      <td>1</td>\n",
       "      <td>NaN</td>\n",
       "      <td>NaN</td>\n",
       "      <td>NaN</td>\n",
       "      <td>NaN</td>\n",
       "      <td>NaN</td>\n",
       "      <td>NaN</td>\n",
       "      <td>[]</td>\n",
       "      <td>[]</td>\n",
       "      <td>NaN</td>\n",
       "      <td>NaN</td>\n",
       "      <td>NaN</td>\n",
       "      <td>NaN</td>\n",
       "      <td>NaN</td>\n",
       "      <td>NaN</td>\n",
       "    </tr>\n",
       "  </tbody>\n",
       "</table>\n",
       "<p>2741 rows × 17 columns</p>\n",
       "</div>"
      ],
      "text/plain": [
       "                                  Final Generic Product  \\\n",
       "0     Croissant - chocolate filling - refined-grain ...   \n",
       "1                                        Snack - Peanut   \n",
       "2                                          Garlic Sauce   \n",
       "3                         Ice lolly - Cream ice - vegan   \n",
       "4                                      Pesto - Pomodoro   \n",
       "...                                                 ...   \n",
       "2736                              Williams Pear Liqueur   \n",
       "2737                             Wine based Mixed Drink   \n",
       "2738                           Yeast Dumplings - frozen   \n",
       "2739                       Zucchini - raw - shelfstable   \n",
       "2740                     chokeberry - raw - shelfstable   \n",
       "\n",
       "                                        energy_per_100g  Number of Products  \\\n",
       "0                                       [448.0, 1871.0]                   2   \n",
       "1     [458.0, 477.0, 503.0, 511.0, 531.0, 538.0, 540...                  15   \n",
       "2     [80.0, 110.0, 239.0, 247.0, 248.0, 262.0, 271....                  12   \n",
       "3                                       [276.0, 1093.0]                   2   \n",
       "4     [69.0, 86.0, 117.0, 279.0, 322.0, 335.0, 385.0...                   8   \n",
       "...                                                 ...                 ...   \n",
       "2736                                              [nan]                   1   \n",
       "2737                                              [nan]                   1   \n",
       "2738                                              [nan]                   1   \n",
       "2739                                              [nan]                   1   \n",
       "2740                                              [nan]                   1   \n",
       "\n",
       "        Min     Max  Median         Mean   Range         Std Outlier Energy  \\\n",
       "0     448.0  1871.0  1159.5  1159.500000  1423.0  711.500000             []   \n",
       "1     458.0  2278.0   543.5   671.928571  1820.0  448.363766       [2278.0]   \n",
       "2      80.0  1650.0   262.0   375.545455  1570.0  412.116348       [1650.0]   \n",
       "3     276.0  1093.0   684.5   684.500000   817.0  408.500000             []   \n",
       "4      69.0  1406.0   300.5   374.875000  1337.0  406.264519       [1406.0]   \n",
       "...     ...     ...     ...          ...     ...         ...            ...   \n",
       "2736    NaN     NaN     NaN          NaN     NaN         NaN             []   \n",
       "2737    NaN     NaN     NaN          NaN     NaN         NaN             []   \n",
       "2738    NaN     NaN     NaN          NaN     NaN         NaN             []   \n",
       "2739    NaN     NaN     NaN          NaN     NaN         NaN             []   \n",
       "2740    NaN     NaN     NaN          NaN     NaN         NaN             []   \n",
       "\n",
       "                                 Without Outlier Energy  W/O Outlier Min  \\\n",
       "0                                       [448.0, 1871.0]            448.0   \n",
       "1     [458.0, 477.0, 503.0, 511.0, 531.0, 538.0, 540...            458.0   \n",
       "2     [80.0, 110.0, 239.0, 247.0, 248.0, 262.0, 271....             80.0   \n",
       "3                                       [276.0, 1093.0]            276.0   \n",
       "4       [69.0, 86.0, 117.0, 279.0, 322.0, 335.0, 385.0]             69.0   \n",
       "...                                                 ...              ...   \n",
       "2736                                                 []              NaN   \n",
       "2737                                                 []              NaN   \n",
       "2738                                                 []              NaN   \n",
       "2739                                                 []              NaN   \n",
       "2740                                                 []              NaN   \n",
       "\n",
       "      W/O Outlier Max  W/O Outlier Median  W/O Outlier Mean  \\\n",
       "0              1871.0              1159.5       1159.500000   \n",
       "1               621.0               540.0        548.384615   \n",
       "2               385.0               255.0        248.100000   \n",
       "3              1093.0               684.5        684.500000   \n",
       "4               385.0               279.0        227.571429   \n",
       "...               ...                 ...               ...   \n",
       "2736              NaN                 NaN               NaN   \n",
       "2737              NaN                 NaN               NaN   \n",
       "2738              NaN                 NaN               NaN   \n",
       "2739              NaN                 NaN               NaN   \n",
       "2740              NaN                 NaN               NaN   \n",
       "\n",
       "      W/O Outlier Range  W/O Outlier Std  \n",
       "0                1423.0       711.500000  \n",
       "1                 163.0        53.013117  \n",
       "2                 305.0        90.322146  \n",
       "3                 817.0       408.500000  \n",
       "4                 316.0       122.649160  \n",
       "...                 ...              ...  \n",
       "2736                NaN              NaN  \n",
       "2737                NaN              NaN  \n",
       "2738                NaN              NaN  \n",
       "2739                NaN              NaN  \n",
       "2740                NaN              NaN  \n",
       "\n",
       "[2741 rows x 17 columns]"
      ]
     },
     "execution_count": 36,
     "metadata": {},
     "output_type": "execute_result"
    }
   ],
   "source": [
    "fgb_out"
   ]
  },
  {
   "cell_type": "markdown",
   "metadata": {},
   "source": [
    "<h2>Visualising Energy Range without Outlier</h2>"
   ]
  },
  {
   "cell_type": "code",
   "execution_count": 37,
   "metadata": {
    "scrolled": true
   },
   "outputs": [
    {
     "data": {
      "image/png": "[encoded data removed]",
      "text/plain": [
       "<Figure size 432x288 with 1 Axes>"
      ]
     },
     "metadata": {
      "needs_background": "light"
     },
     "output_type": "display_data"
    }
   ],
   "source": [
    "x=fgb_out['W/O Outlier Mean'].to_numpy()\n",
    "y=fgb_out['W/O Outlier Median'].to_numpy()\n",
    "e=fgb_out['W/O Outlier Std']\n",
    "# figure(figsize(10,8),dpi=80)\n",
    "plt.errorbar(x,y,yerr=e,fmt='o',alpha=0.2)\n",
    "plt.show()"
   ]
  },
  {
   "cell_type": "code",
   "execution_count": 38,
   "metadata": {
    "scrolled": false
   },
   "outputs": [
    {
     "name": "stderr",
     "output_type": "stream",
     "text": [
      "/usr/local/lib/python3.8/site-packages/pandas/plotting/_matplotlib/tools.py:331: MatplotlibDeprecationWarning: \n",
      "The is_first_col function was deprecated in Matplotlib 3.4 and will be removed two minor releases later. Use ax.get_subplotspec().is_first_col() instead.\n",
      "  if ax.is_first_col():\n"
     ]
    },
    {
     "data": {
      "text/plain": [
       "<AxesSubplot:xlabel='W/O Outlier Range', ylabel='W/O Outlier Std'>"
      ]
     },
     "execution_count": 38,
     "metadata": {},
     "output_type": "execute_result"
    },
    {
     "data": {
      "image/png": "[encoded data removed]",
      "text/plain": [
       "<Figure size 720x576 with 2 Axes>"
      ]
     },
     "metadata": {
      "needs_background": "light"
     },
     "output_type": "display_data"
    }
   ],
   "source": [
    "fgb_out.plot(kind='scatter',x='W/O Outlier Range',y='W/O Outlier Std',alpha=0.3,\n",
    "        s=fgb['W/O Outlier Median']/100,label='W/O Outlier Median',figsize=(10,8),\n",
    "        c='Number of Products',cmap=plt.get_cmap('jet'),colorbar=True)"
   ]
  },
  {
   "cell_type": "markdown",
   "metadata": {},
   "source": [
    "<h2>Visualising Comparison of Energy Range without Outlier and With Outlier</h2>"
   ]
  },
  {
   "cell_type": "code",
   "execution_count": 39,
   "metadata": {},
   "outputs": [],
   "source": [
    "fgb_out['Range Difference']=(fgb_out['Range']-fgb_out['W/O Outlier Range'])/fgb_out['Range']\n",
    "fgb_out['Std Difference']=(fgb_out['Std']-fgb_out['W/O Outlier Std'])/fgb_out['Std']\n",
    "temp=fgb_out[['Range','Std','W/O Outlier Range','W/O Outlier Std','Std Difference','Range Difference']]"
   ]
  },
  {
   "cell_type": "code",
   "execution_count": 40,
   "metadata": {
    "scrolled": true
   },
   "outputs": [
    {
     "data": {
      "text/plain": [
       "<AxesSubplot:xlabel='Range Difference', ylabel='Std Difference'>"
      ]
     },
     "execution_count": 40,
     "metadata": {},
     "output_type": "execute_result"
    },
    {
     "data": {
      "image/png": "[encoded data removed]",
      "text/plain": [
       "<Figure size 720x576 with 2 Axes>"
      ]
     },
     "metadata": {
      "needs_background": "light"
     },
     "output_type": "display_data"
    }
   ],
   "source": [
    "fgb_out.plot(kind='scatter',x='Range Difference',y='Std Difference',alpha=0.3,\n",
    "        s=len(fgb['Outlier Energy'])/100,label='Number of Outlier Energy',figsize=(10,8),\n",
    "        c='Number of Products',cmap=plt.get_cmap('jet'),colorbar=True)"
   ]
  },
  {
   "cell_type": "markdown",
   "metadata": {},
   "source": [
    "<h2>Assigning Outliers to Data</h2>"
   ]
  },
  {
   "cell_type": "code",
   "execution_count": 41,
   "metadata": {},
   "outputs": [],
   "source": [
    "fgb_assign=fgb_out[['Final Generic Product','Outlier Energy']]"
   ]
  },
  {
   "cell_type": "code",
   "execution_count": 42,
   "metadata": {},
   "outputs": [],
   "source": [
    "n=0\n",
    "for row in fgb_assign['Outlier Energy']:\n",
    "    if len(row)==0:\n",
    "        fgb_assign=fgb_assign.drop([n])\n",
    "#     print(n)\n",
    "    n=n+1"
   ]
  },
  {
   "cell_type": "code",
   "execution_count": 43,
   "metadata": {
    "scrolled": true
   },
   "outputs": [],
   "source": [
    "fgb_assign=fgb_assign.reset_index()"
   ]
  },
  {
   "cell_type": "code",
   "execution_count": 44,
   "metadata": {},
   "outputs": [],
   "source": [
    "rang=fgb_assign['index'].tolist()\n",
    "en_arr=[]\n",
    "prod_arr=[]\n",
    "for i in rang:\n",
    "    prod=fgb_assign[fgb_assign['index']==i]['Final Generic Product'].item()\n",
    "    out_arr=fgb_assign[fgb_assign['index']==i]['Outlier Energy'].item()\n",
    "    for out in out_arr:\n",
    "        prod_arr.append(prod)\n",
    "        en_arr.append(out)"
   ]
  },
  {
   "cell_type": "code",
   "execution_count": 45,
   "metadata": {},
   "outputs": [
    {
     "name": "stderr",
     "output_type": "stream",
     "text": [
      "<ipython-input-45-b371a6cf773c>:2: SettingWithCopyWarning: \n",
      "A value is trying to be set on a copy of a slice from a DataFrame.\n",
      "Try using .loc[row_indexer,col_indexer] = value instead\n",
      "\n",
      "See the caveats in the documentation: https://pandas.pydata.org/pandas-docs/stable/user_guide/indexing.html#returning-a-view-versus-a-copy\n",
      "  temp['Identifier']=temp['Final Generic Product'].astype(str)+' '+temp['energy_per_100g'].astype(str)\n"
     ]
    }
   ],
   "source": [
    "temp=raw[['Final Generic Product','energy_per_100g','Product name']]\n",
    "temp['Identifier']=temp['Final Generic Product'].astype(str)+' '+temp['energy_per_100g'].astype(str)"
   ]
  },
  {
   "cell_type": "code",
   "execution_count": 54,
   "metadata": {},
   "outputs": [],
   "source": [
    "frames=[prod_arr,en_arr]\n",
    "outliers=pd.DataFrame(frames).transpose()\n",
    "outliers.columns=['Final Generic Product','Outlier Energy']"
   ]
  },
  {
   "cell_type": "code",
   "execution_count": 55,
   "metadata": {
    "scrolled": true
   },
   "outputs": [],
   "source": [
    "outliers['Identifier']=outliers['Final Generic Product'].astype(str)+' '+outliers['Outlier Energy'].astype(str)"
   ]
  },
  {
   "cell_type": "code",
   "execution_count": 60,
   "metadata": {},
   "outputs": [
    {
     "data": {
      "text/html": [
       "<div>\n",
       "<style scoped>\n",
       "    .dataframe tbody tr th:only-of-type {\n",
       "        vertical-align: middle;\n",
       "    }\n",
       "\n",
       "    .dataframe tbody tr th {\n",
       "        vertical-align: top;\n",
       "    }\n",
       "\n",
       "    .dataframe thead th {\n",
       "        text-align: right;\n",
       "    }\n",
       "</style>\n",
       "<table border=\"1\" class=\"dataframe\">\n",
       "  <thead>\n",
       "    <tr style=\"text-align: right;\">\n",
       "      <th></th>\n",
       "      <th>Final Generic Product</th>\n",
       "      <th>Outlier Energy</th>\n",
       "      <th>energy_per_100g</th>\n",
       "      <th>Product name</th>\n",
       "    </tr>\n",
       "  </thead>\n",
       "  <tbody>\n",
       "    <tr>\n",
       "      <th>0</th>\n",
       "      <td>Snack - Peanut</td>\n",
       "      <td>2278</td>\n",
       "      <td>2278.0</td>\n",
       "      <td>Lorenz Nic Nac's BBQ</td>\n",
       "    </tr>\n",
       "    <tr>\n",
       "      <th>1</th>\n",
       "      <td>Garlic Sauce</td>\n",
       "      <td>1650</td>\n",
       "      <td>1650.0</td>\n",
       "      <td>Felix Kräutersauce</td>\n",
       "    </tr>\n",
       "    <tr>\n",
       "      <th>2</th>\n",
       "      <td>Pesto - Pomodoro</td>\n",
       "      <td>1406</td>\n",
       "      <td>1406.0</td>\n",
       "      <td>Barilla Pesto Pomodori Secchi</td>\n",
       "    </tr>\n",
       "    <tr>\n",
       "      <th>3</th>\n",
       "      <td>Sweet Bakery - plain - refined-grain - shelfst...</td>\n",
       "      <td>1505</td>\n",
       "      <td>1505.0</td>\n",
       "      <td>Ölz Mini Bussi Zimt</td>\n",
       "    </tr>\n",
       "    <tr>\n",
       "      <th>4</th>\n",
       "      <td>Sticks/Grissini - plain</td>\n",
       "      <td>1888</td>\n",
       "      <td>1888.0</td>\n",
       "      <td>Grissini mit Sesam</td>\n",
       "    </tr>\n",
       "    <tr>\n",
       "      <th>...</th>\n",
       "      <td>...</td>\n",
       "      <td>...</td>\n",
       "      <td>...</td>\n",
       "      <td>...</td>\n",
       "    </tr>\n",
       "    <tr>\n",
       "      <th>1435</th>\n",
       "      <td>Instant/Take-Away - Vegetables with Others - p...</td>\n",
       "      <td>91</td>\n",
       "      <td>91.0</td>\n",
       "      <td>Bali Brunch Rainbow Bowl</td>\n",
       "    </tr>\n",
       "    <tr>\n",
       "      <th>1436</th>\n",
       "      <td>Instant/Take-Away - Vegetable with Cereals - v...</td>\n",
       "      <td>76</td>\n",
       "      <td>76.0</td>\n",
       "      <td>Küchenbrüder Veganes Bio Chili sin Carne</td>\n",
       "    </tr>\n",
       "    <tr>\n",
       "      <th>1437</th>\n",
       "      <td>Instant/Take-Away - Vegetable with Cereals - v...</td>\n",
       "      <td>92</td>\n",
       "      <td>92.0</td>\n",
       "      <td>Iglo Ideenküche Broccoli Buchweizen</td>\n",
       "    </tr>\n",
       "    <tr>\n",
       "      <th>1438</th>\n",
       "      <td>Instant/Take-Away - Vegetable with Cereals - p...</td>\n",
       "      <td>205</td>\n",
       "      <td>205.0</td>\n",
       "      <td>Bali Brunch Oriental Feel good Bowl</td>\n",
       "    </tr>\n",
       "    <tr>\n",
       "      <th>1439</th>\n",
       "      <td>Zander - unprepared-unprocessed - refrigerated</td>\n",
       "      <td>83</td>\n",
       "      <td>83.0</td>\n",
       "      <td>Iglo Zander Naturfilets</td>\n",
       "    </tr>\n",
       "  </tbody>\n",
       "</table>\n",
       "<p>1440 rows × 4 columns</p>\n",
       "</div>"
      ],
      "text/plain": [
       "                                  Final Generic Product Outlier Energy  \\\n",
       "0                                        Snack - Peanut           2278   \n",
       "1                                          Garlic Sauce           1650   \n",
       "2                                      Pesto - Pomodoro           1406   \n",
       "3     Sweet Bakery - plain - refined-grain - shelfst...           1505   \n",
       "4                               Sticks/Grissini - plain           1888   \n",
       "...                                                 ...            ...   \n",
       "1435  Instant/Take-Away - Vegetables with Others - p...             91   \n",
       "1436  Instant/Take-Away - Vegetable with Cereals - v...             76   \n",
       "1437  Instant/Take-Away - Vegetable with Cereals - v...             92   \n",
       "1438  Instant/Take-Away - Vegetable with Cereals - p...            205   \n",
       "1439     Zander - unprepared-unprocessed - refrigerated             83   \n",
       "\n",
       "      energy_per_100g                              Product name  \n",
       "0              2278.0                      Lorenz Nic Nac's BBQ  \n",
       "1              1650.0                        Felix Kräutersauce  \n",
       "2              1406.0             Barilla Pesto Pomodori Secchi  \n",
       "3              1505.0                       Ölz Mini Bussi Zimt  \n",
       "4              1888.0                        Grissini mit Sesam  \n",
       "...               ...                                       ...  \n",
       "1435             91.0                  Bali Brunch Rainbow Bowl  \n",
       "1436             76.0  Küchenbrüder Veganes Bio Chili sin Carne  \n",
       "1437             92.0       Iglo Ideenküche Broccoli Buchweizen  \n",
       "1438            205.0       Bali Brunch Oriental Feel good Bowl  \n",
       "1439             83.0                   Iglo Zander Naturfilets  \n",
       "\n",
       "[1440 rows x 4 columns]"
      ]
     },
     "execution_count": 60,
     "metadata": {},
     "output_type": "execute_result"
    }
   ],
   "source": [
    "outliers_res=outliers.merge(temp,how='left',on=['Identifier'])\n",
    "outliers_res=outliers_res.drop(columns=['Final Generic Product_y', 'Identifier'])\n",
    "outliers_res=outliers_res.rename(columns={\"Final Generic Product_x\": \"Final Generic Product\"})\n",
    "outliers_res"
   ]
  },
  {
   "cell_type": "code",
   "execution_count": 61,
   "metadata": {},
   "outputs": [],
   "source": [
    "outliers_res.to_csv('Outliers.csv')"
   ]
  }
 ],
 "metadata": {
  "kernelspec": {
   "display_name": "Python 3",
   "language": "python",
   "name": "python3"
  },
  "language_info": {
   "codemirror_mode": {
    "name": "ipython",
    "version": 3
   },
   "file_extension": ".py",
   "mimetype": "text/x-python",
   "name": "python",
   "nbconvert_exporter": "python",
   "pygments_lexer": "ipython3",
   "version": "3.8.3"
  }
 },
 "nbformat": 4,
 "nbformat_minor": 4
}
