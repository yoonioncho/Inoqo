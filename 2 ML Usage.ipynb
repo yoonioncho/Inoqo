{
 "cells": [
  {
   "cell_type": "code",
   "execution_count": 1,
   "metadata": {},
   "outputs": [],
   "source": [
    "import numpy as np\n",
    "import pandas as pd\n",
    "from sklearn.model_selection import train_test_split\n",
    "from sklearn.impute import SimpleImputer\n",
    "from sklearn.linear_model import LinearRegression\n",
    "from sklearn.metrics import mean_squared_error"
   ]
  },
  {
   "cell_type": "markdown",
   "metadata": {},
   "source": [
    "<h2>Reading the Data</h2>"
   ]
  },
  {
   "cell_type": "code",
   "execution_count": 2,
   "metadata": {},
   "outputs": [],
   "source": [
    "raw=pd.read_csv('product_identifiers.csv')\n",
    "data=raw.sort_values(by=['energy_per_100g'])\n",
    "outlier=pd.read_csv('Outliers.csv')\n",
    "outlier=outlier.drop(['Unnamed: 0'],axis=1)\n",
    "\n",
    "res=pd.read_csv('[RES] Mean Median ML with Deviations')"
   ]
  },
  {
   "cell_type": "markdown",
   "metadata": {},
   "source": [
    "<h3>Deleting Outliers from Data</h3>"
   ]
  },
  {
   "cell_type": "code",
   "execution_count": 3,
   "metadata": {},
   "outputs": [],
   "source": [
    "data['Identifier']=data['Final Generic Product'].astype(str)+' '+data['energy_per_100g'].astype(str)\n",
    "outlier['Identifier']=outlier['Final Generic Product'].astype(str)+' '+outlier['Outlier Energy'].astype(str)"
   ]
  },
  {
   "cell_type": "code",
   "execution_count": 4,
   "metadata": {},
   "outputs": [],
   "source": [
    "data=data[~data.Identifier.isin(outlier.Identifier)]\n",
    "data=data.drop(['Identifier'],axis=1)"
   ]
  },
  {
   "cell_type": "markdown",
   "metadata": {},
   "source": [
    "<h2>Assign Index for Future Reference</h2>"
   ]
  },
  {
   "cell_type": "code",
   "execution_count": 5,
   "metadata": {},
   "outputs": [],
   "source": [
    "data=data.dropna(subset=['Final Generic Product'])\n",
    "data['IDX Final Generic Product'] =data['Final Generic Product'].factorize()[0]"
   ]
  },
  {
   "cell_type": "code",
   "execution_count": 6,
   "metadata": {},
   "outputs": [
    {
     "data": {
      "text/html": [
       "<div>\n",
       "<style scoped>\n",
       "    .dataframe tbody tr th:only-of-type {\n",
       "        vertical-align: middle;\n",
       "    }\n",
       "\n",
       "    .dataframe tbody tr th {\n",
       "        vertical-align: top;\n",
       "    }\n",
       "\n",
       "    .dataframe thead th {\n",
       "        text-align: right;\n",
       "    }\n",
       "</style>\n",
       "<table border=\"1\" class=\"dataframe\">\n",
       "  <thead>\n",
       "    <tr style=\"text-align: right;\">\n",
       "      <th></th>\n",
       "      <th>energy_per_100g</th>\n",
       "      <th>Final Generic Product</th>\n",
       "      <th>IDX Final Generic Product</th>\n",
       "    </tr>\n",
       "  </thead>\n",
       "  <tbody>\n",
       "    <tr>\n",
       "      <th>23230</th>\n",
       "      <td>0.0</td>\n",
       "      <td>Chicken - prepared - refrigerated</td>\n",
       "      <td>0</td>\n",
       "    </tr>\n",
       "    <tr>\n",
       "      <th>22758</th>\n",
       "      <td>0.0</td>\n",
       "      <td>Random Category</td>\n",
       "      <td>1</td>\n",
       "    </tr>\n",
       "    <tr>\n",
       "      <th>23244</th>\n",
       "      <td>0.0</td>\n",
       "      <td>Turkey - raw - refrigerated</td>\n",
       "      <td>2</td>\n",
       "    </tr>\n",
       "    <tr>\n",
       "      <th>11602</th>\n",
       "      <td>0.0</td>\n",
       "      <td>Flavoured Water</td>\n",
       "      <td>3</td>\n",
       "    </tr>\n",
       "    <tr>\n",
       "      <th>11601</th>\n",
       "      <td>0.0</td>\n",
       "      <td>Flavoured Water</td>\n",
       "      <td>3</td>\n",
       "    </tr>\n",
       "    <tr>\n",
       "      <th>...</th>\n",
       "      <td>...</td>\n",
       "      <td>...</td>\n",
       "      <td>...</td>\n",
       "    </tr>\n",
       "    <tr>\n",
       "      <th>29429</th>\n",
       "      <td>NaN</td>\n",
       "      <td>Sugar Candy - Others - others</td>\n",
       "      <td>1121</td>\n",
       "    </tr>\n",
       "    <tr>\n",
       "      <th>29430</th>\n",
       "      <td>NaN</td>\n",
       "      <td>Sugar Candy - Others - fruits</td>\n",
       "      <td>1020</td>\n",
       "    </tr>\n",
       "    <tr>\n",
       "      <th>29431</th>\n",
       "      <td>NaN</td>\n",
       "      <td>Sugar Candy - Others - fruits</td>\n",
       "      <td>1020</td>\n",
       "    </tr>\n",
       "    <tr>\n",
       "      <th>29432</th>\n",
       "      <td>NaN</td>\n",
       "      <td>Calf - sausage - refrigerated</td>\n",
       "      <td>1969</td>\n",
       "    </tr>\n",
       "    <tr>\n",
       "      <th>29433</th>\n",
       "      <td>NaN</td>\n",
       "      <td>Chicken - prepared - refrigerated</td>\n",
       "      <td>0</td>\n",
       "    </tr>\n",
       "  </tbody>\n",
       "</table>\n",
       "<p>26097 rows × 3 columns</p>\n",
       "</div>"
      ],
      "text/plain": [
       "       energy_per_100g              Final Generic Product  \\\n",
       "23230              0.0  Chicken - prepared - refrigerated   \n",
       "22758              0.0                    Random Category   \n",
       "23244              0.0        Turkey - raw - refrigerated   \n",
       "11602              0.0                    Flavoured Water   \n",
       "11601              0.0                    Flavoured Water   \n",
       "...                ...                                ...   \n",
       "29429              NaN      Sugar Candy - Others - others   \n",
       "29430              NaN      Sugar Candy - Others - fruits   \n",
       "29431              NaN      Sugar Candy - Others - fruits   \n",
       "29432              NaN      Calf - sausage - refrigerated   \n",
       "29433              NaN  Chicken - prepared - refrigerated   \n",
       "\n",
       "       IDX Final Generic Product  \n",
       "23230                          0  \n",
       "22758                          1  \n",
       "23244                          2  \n",
       "11602                          3  \n",
       "11601                          3  \n",
       "...                          ...  \n",
       "29429                       1121  \n",
       "29430                       1020  \n",
       "29431                       1020  \n",
       "29432                       1969  \n",
       "29433                          0  \n",
       "\n",
       "[26097 rows x 3 columns]"
      ]
     },
     "execution_count": 6,
     "metadata": {},
     "output_type": "execute_result"
    }
   ],
   "source": [
    "data[['energy_per_100g','Final Generic Product','IDX Final Generic Product']]"
   ]
  },
  {
   "cell_type": "code",
   "execution_count": 7,
   "metadata": {},
   "outputs": [],
   "source": [
    "attributes=['energy_per_100g','IDX Final Generic Product']\n",
    "data_num=data[attributes]"
   ]
  },
  {
   "cell_type": "markdown",
   "metadata": {},
   "source": [
    "<h2>Data Cleansing for Labels - Energy</h2>"
   ]
  },
  {
   "cell_type": "code",
   "execution_count": 8,
   "metadata": {},
   "outputs": [],
   "source": [
    "data_tr=data_num.dropna(subset=['energy_per_100g'])"
   ]
  },
  {
   "cell_type": "markdown",
   "metadata": {},
   "source": [
    "<h2>Training Set and Test Set</h2>"
   ]
  },
  {
   "cell_type": "code",
   "execution_count": 9,
   "metadata": {},
   "outputs": [],
   "source": [
    "# Get Training Set\n",
    "    # Training = 0.75, Test = 0.25\n",
    "training,testing=train_test_split(data_tr,test_size=0.25,random_state=42)"
   ]
  },
  {
   "cell_type": "code",
   "execution_count": 10,
   "metadata": {},
   "outputs": [],
   "source": [
    "# Machine Learning Data Preparation\n",
    "training_set=training.drop('energy_per_100g',axis=1)\n",
    "training_labels=training['energy_per_100g'].copy()"
   ]
  },
  {
   "cell_type": "markdown",
   "metadata": {},
   "source": [
    "<h2>ML 1 - Linear Regression</h2>"
   ]
  },
  {
   "cell_type": "code",
   "execution_count": 11,
   "metadata": {},
   "outputs": [
    {
     "data": {
      "text/plain": [
       "LinearRegression()"
      ]
     },
     "execution_count": 11,
     "metadata": {},
     "output_type": "execute_result"
    }
   ],
   "source": [
    "# Selecting Model and Training\n",
    "\n",
    "training_prepared=training_set\n",
    "# training_labels=num_pipeline.fit_transform(training_labels)\n",
    "\n",
    "lin_reg = LinearRegression()\n",
    "lin_reg.fit(training_prepared, training_labels)"
   ]
  },
  {
   "cell_type": "code",
   "execution_count": 12,
   "metadata": {},
   "outputs": [
    {
     "name": "stdout",
     "output_type": "stream",
     "text": [
      "Prediction: [ 35.05248168  49.22911586 113.63153973  38.69790189  71.10163717]\n",
      "Label: [152.0, 37.0, 67.0, 17.0, 41.0]\n"
     ]
    }
   ],
   "source": [
    "# Pipelining\n",
    "some_labels = training_labels.iloc[:5]\n",
    "some_data_prepared = training_set.iloc[:5]\n",
    "\n",
    "print(\"Prediction:\", lin_reg.predict(some_data_prepared))\n",
    "print(\"Label:\", list(some_labels))\n"
   ]
  },
  {
   "cell_type": "markdown",
   "metadata": {},
   "source": [
    "<H3>ML 1 ERROR - Linear Regression </H3>"
   ]
  },
  {
   "cell_type": "code",
   "execution_count": 13,
   "metadata": {},
   "outputs": [
    {
     "data": {
      "text/plain": [
       "91.85454179324883"
      ]
     },
     "execution_count": 13,
     "metadata": {},
     "output_type": "execute_result"
    }
   ],
   "source": [
    "training_predictions = lin_reg.predict(training_prepared)\n",
    "lin_mse = mean_squared_error(training_labels, training_predictions)\n",
    "lin_rmse = np.sqrt(lin_mse)\n",
    "lin_rmse"
   ]
  },
  {
   "cell_type": "markdown",
   "metadata": {},
   "source": [
    "<h2>ML 2 - Tree Regression</h2>"
   ]
  },
  {
   "cell_type": "code",
   "execution_count": 14,
   "metadata": {},
   "outputs": [
    {
     "data": {
      "text/plain": [
       "DecisionTreeRegressor(random_state=42)"
      ]
     },
     "execution_count": 14,
     "metadata": {},
     "output_type": "execute_result"
    }
   ],
   "source": [
    "# different model chosen than linear - decision tree\n",
    "from sklearn.tree import DecisionTreeRegressor\n",
    "\n",
    "tree_reg = DecisionTreeRegressor(random_state=42)\n",
    "tree_reg.fit(training_prepared, training_labels)"
   ]
  },
  {
   "cell_type": "markdown",
   "metadata": {},
   "source": [
    "<H3>ML 2 ERROR - Tree Regression </H3>"
   ]
  },
  {
   "cell_type": "code",
   "execution_count": 15,
   "metadata": {},
   "outputs": [
    {
     "data": {
      "text/plain": [
       "52.705177067291345"
      ]
     },
     "execution_count": 15,
     "metadata": {},
     "output_type": "execute_result"
    }
   ],
   "source": [
    "training_predictions = tree_reg.predict(training_prepared)\n",
    "tree_mse = mean_squared_error(training_labels, training_predictions)\n",
    "tree_rmse = np.sqrt(tree_mse)\n",
    "tree_rmse"
   ]
  },
  {
   "cell_type": "markdown",
   "metadata": {},
   "source": [
    "<h2>ML 3 - Random Forest</h2>"
   ]
  },
  {
   "cell_type": "code",
   "execution_count": 16,
   "metadata": {},
   "outputs": [
    {
     "data": {
      "text/plain": [
       "RandomForestRegressor(n_estimators=10, random_state=42)"
      ]
     },
     "execution_count": 16,
     "metadata": {},
     "output_type": "execute_result"
    }
   ],
   "source": [
    "# Another Modelling - Ensemble Leaning (Random Forest Regressor)\n",
    "from sklearn.ensemble import RandomForestRegressor\n",
    "\n",
    "forest_reg = RandomForestRegressor(n_estimators=10, random_state=42)\n",
    "forest_reg.fit(training_prepared, training_labels)"
   ]
  },
  {
   "cell_type": "markdown",
   "metadata": {},
   "source": [
    "<H3>ML 3 ERROR - Random Forest </H3>"
   ]
  },
  {
   "cell_type": "code",
   "execution_count": 17,
   "metadata": {},
   "outputs": [
    {
     "data": {
      "text/plain": [
       "53.34070446840405"
      ]
     },
     "execution_count": 17,
     "metadata": {},
     "output_type": "execute_result"
    }
   ],
   "source": [
    "training_predictions = forest_reg.predict(training_prepared)\n",
    "forest_mse = mean_squared_error(training_labels, training_predictions)\n",
    "forest_rmse = np.sqrt(forest_mse)\n",
    "forest_rmse"
   ]
  },
  {
   "cell_type": "markdown",
   "metadata": {},
   "source": [
    "<h2>Implementation ML 2</h2>"
   ]
  },
  {
   "cell_type": "code",
   "execution_count": 18,
   "metadata": {},
   "outputs": [],
   "source": [
    "data_set=data_tr.drop('energy_per_100g',axis=1)\n",
    "data_labels=data_tr['energy_per_100g'].copy()\n",
    "prepared=data_num.drop('energy_per_100g',axis=1)\n",
    "\n",
    "from sklearn.tree import DecisionTreeRegressor\n",
    "\n",
    "tree_reg = DecisionTreeRegressor(random_state=42)\n",
    "tree_reg.fit(data_set, data_labels)\n",
    "\n",
    "predictions = tree_reg.predict(prepared)"
   ]
  },
  {
   "cell_type": "code",
   "execution_count": 19,
   "metadata": {},
   "outputs": [
    {
     "name": "stderr",
     "output_type": "stream",
     "text": [
      "<ipython-input-19-d531ee30b6bf>:1: SettingWithCopyWarning: \n",
      "A value is trying to be set on a copy of a slice from a DataFrame.\n",
      "Try using .loc[row_indexer,col_indexer] = value instead\n",
      "\n",
      "See the caveats in the documentation: https://pandas.pydata.org/pandas-docs/stable/user_guide/indexing.html#returning-a-view-versus-a-copy\n",
      "  data_num['Energy Prediction']=predictions\n"
     ]
    },
    {
     "data": {
      "text/html": [
       "<div>\n",
       "<style scoped>\n",
       "    .dataframe tbody tr th:only-of-type {\n",
       "        vertical-align: middle;\n",
       "    }\n",
       "\n",
       "    .dataframe tbody tr th {\n",
       "        vertical-align: top;\n",
       "    }\n",
       "\n",
       "    .dataframe thead th {\n",
       "        text-align: right;\n",
       "    }\n",
       "</style>\n",
       "<table border=\"1\" class=\"dataframe\">\n",
       "  <thead>\n",
       "    <tr style=\"text-align: right;\">\n",
       "      <th></th>\n",
       "      <th>energy_per_100g</th>\n",
       "      <th>IDX Final Generic Product</th>\n",
       "      <th>Energy Prediction</th>\n",
       "    </tr>\n",
       "  </thead>\n",
       "  <tbody>\n",
       "    <tr>\n",
       "      <th>0</th>\n",
       "      <td>NaN</td>\n",
       "      <td>1299</td>\n",
       "      <td>827.666667</td>\n",
       "    </tr>\n",
       "    <tr>\n",
       "      <th>1</th>\n",
       "      <td>305.0</td>\n",
       "      <td>957</td>\n",
       "      <td>308.600000</td>\n",
       "    </tr>\n",
       "    <tr>\n",
       "      <th>2</th>\n",
       "      <td>248.0</td>\n",
       "      <td>858</td>\n",
       "      <td>251.000000</td>\n",
       "    </tr>\n",
       "    <tr>\n",
       "      <th>3</th>\n",
       "      <td>254.0</td>\n",
       "      <td>858</td>\n",
       "      <td>251.000000</td>\n",
       "    </tr>\n",
       "    <tr>\n",
       "      <th>4</th>\n",
       "      <td>305.0</td>\n",
       "      <td>957</td>\n",
       "      <td>308.600000</td>\n",
       "    </tr>\n",
       "    <tr>\n",
       "      <th>...</th>\n",
       "      <td>...</td>\n",
       "      <td>...</td>\n",
       "      <td>...</td>\n",
       "    </tr>\n",
       "    <tr>\n",
       "      <th>29429</th>\n",
       "      <td>NaN</td>\n",
       "      <td>1121</td>\n",
       "      <td>415.250000</td>\n",
       "    </tr>\n",
       "    <tr>\n",
       "      <th>29430</th>\n",
       "      <td>NaN</td>\n",
       "      <td>1020</td>\n",
       "      <td>386.500000</td>\n",
       "    </tr>\n",
       "    <tr>\n",
       "      <th>29431</th>\n",
       "      <td>NaN</td>\n",
       "      <td>1020</td>\n",
       "      <td>386.500000</td>\n",
       "    </tr>\n",
       "    <tr>\n",
       "      <th>29432</th>\n",
       "      <td>NaN</td>\n",
       "      <td>1969</td>\n",
       "      <td>827.666667</td>\n",
       "    </tr>\n",
       "    <tr>\n",
       "      <th>29433</th>\n",
       "      <td>NaN</td>\n",
       "      <td>0</td>\n",
       "      <td>81.454545</td>\n",
       "    </tr>\n",
       "  </tbody>\n",
       "</table>\n",
       "<p>26097 rows × 3 columns</p>\n",
       "</div>"
      ],
      "text/plain": [
       "       energy_per_100g  IDX Final Generic Product  Energy Prediction\n",
       "0                  NaN                       1299         827.666667\n",
       "1                305.0                        957         308.600000\n",
       "2                248.0                        858         251.000000\n",
       "3                254.0                        858         251.000000\n",
       "4                305.0                        957         308.600000\n",
       "...                ...                        ...                ...\n",
       "29429              NaN                       1121         415.250000\n",
       "29430              NaN                       1020         386.500000\n",
       "29431              NaN                       1020         386.500000\n",
       "29432              NaN                       1969         827.666667\n",
       "29433              NaN                          0          81.454545\n",
       "\n",
       "[26097 rows x 3 columns]"
      ]
     },
     "execution_count": 19,
     "metadata": {},
     "output_type": "execute_result"
    }
   ],
   "source": [
    "data_num['Energy Prediction']=predictions\n",
    "data_num.sort_index()"
   ]
  },
  {
   "cell_type": "markdown",
   "metadata": {},
   "source": [
    "<h2>Exporting Results</h2>"
   ]
  },
  {
   "cell_type": "code",
   "execution_count": 91,
   "metadata": {},
   "outputs": [],
   "source": [
    "res=pd.read_csv('[RES] Mean Median ML with Deviations')\n",
    "temp=data[['Final Generic Product']]"
   ]
  },
  {
   "cell_type": "code",
   "execution_count": 93,
   "metadata": {},
   "outputs": [],
   "source": [
    "temp['W/O Outlier ML']=data_num['Energy Prediction']"
   ]
  },
  {
   "cell_type": "code",
   "execution_count": 94,
   "metadata": {},
   "outputs": [],
   "source": [
    "temp=temp.drop_duplicates(subset=['Final Generic Product'])"
   ]
  },
  {
   "cell_type": "code",
   "execution_count": 99,
   "metadata": {},
   "outputs": [],
   "source": [
    "res=pd.read_csv('[RES] Mean Median ML with Deviations')\n",
    "res=res.merge(temp,how='outer',on=['Final Generic Product'])\n",
    "# naarr=[]\n",
    "# n=0\n",
    "# for elem in res['Final Generic Product']:\n",
    "#     if type(elem)==float:\n",
    "#         naarr.append(n)\n",
    "#     n=n+1"
   ]
  },
  {
   "cell_type": "code",
   "execution_count": 102,
   "metadata": {},
   "outputs": [],
   "source": [
    "def na_kcal(df,col):\n",
    "    if df[col]>0:\n",
    "        if df['energy_per_100g']>0:\n",
    "            pred=df[col]\n",
    "            exist=df['energy_per_100g']\n",
    "            return abs((pred-exist)/exist)\n",
    "        elif df['energy_per_100g']==0:\n",
    "            return 1\n",
    "    else:\n",
    "        return np.nan"
   ]
  },
  {
   "cell_type": "code",
   "execution_count": 103,
   "metadata": {},
   "outputs": [],
   "source": [
    "res['W/O Outlier ML Deviation']=res.apply(lambda res:na_kcal(res,'W/O Outlier ML'),axis=1)"
   ]
  },
  {
   "cell_type": "code",
   "execution_count": 106,
   "metadata": {},
   "outputs": [],
   "source": [
    "res.to_csv('[RES] Mean Median ML with Deviations.csv')"
   ]
  }
 ],
 "metadata": {
  "kernelspec": {
   "display_name": "Python 3",
   "language": "python",
   "name": "python3"
  },
  "language_info": {
   "codemirror_mode": {
    "name": "ipython",
    "version": 3
   },
   "file_extension": ".py",
   "mimetype": "text/x-python",
   "name": "python",
   "nbconvert_exporter": "python",
   "pygments_lexer": "ipython3",
   "version": "3.8.3"
  }
 },
 "nbformat": 4,
 "nbformat_minor": 4
}
